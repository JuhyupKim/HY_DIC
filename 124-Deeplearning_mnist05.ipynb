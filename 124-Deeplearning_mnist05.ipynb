{
  "nbformat": 4,
  "nbformat_minor": 0,
  "metadata": {
    "accelerator": "GPU",
    "colab": {
      "name": "124-Deeplearning_mnist05.ipynb",
      "provenance": [],
      "collapsed_sections": [],
      "include_colab_link": true
    },
    "kernelspec": {
      "display_name": "Python 3",
      "language": "python",
      "name": "python3"
    },
    "language_info": {
      "codemirror_mode": {
        "name": "ipython",
        "version": 3
      },
      "file_extension": ".py",
      "mimetype": "text/x-python",
      "name": "python",
      "nbconvert_exporter": "python",
      "pygments_lexer": "ipython3",
      "version": "3.6.10"
    }
  },
  "cells": [
    {
      "cell_type": "markdown",
      "metadata": {
        "id": "view-in-github",
        "colab_type": "text"
      },
      "source": [
        "<a href=\"https://colab.research.google.com/github/JuhyupKim/HY_DIC/blob/main/124-Deeplearning_mnist05.ipynb\" target=\"_parent\"><img src=\"https://colab.research.google.com/assets/colab-badge.svg\" alt=\"Open In Colab\"/></a>"
      ]
    },
    {
      "cell_type": "markdown",
      "metadata": {
        "id": "5GHSzLkG0EXO"
      },
      "source": [
        "# Deep Learning"
      ]
    },
    {
      "cell_type": "code",
      "metadata": {
        "id": "7cCTNMkI0EXZ"
      },
      "source": [
        "import pandas as pd\n",
        "import os\n",
        "import numpy as np\n",
        "import matplotlib\n",
        "import matplotlib.pyplot as plt\n",
        "import torch\n",
        "import torch.nn as nn\n",
        "import torch.optim as optim"
      ],
      "execution_count": null,
      "outputs": []
    },
    {
      "cell_type": "code",
      "metadata": {
        "id": "gFL5dNnQ0EXa"
      },
      "source": [
        "device = torch.device(\"cuda:0\" if torch.cuda.is_available() else \"cpu\")"
      ],
      "execution_count": null,
      "outputs": []
    },
    {
      "cell_type": "markdown",
      "metadata": {
        "id": "UFCPbsGI0EXa"
      },
      "source": [
        "## Data import"
      ]
    },
    {
      "cell_type": "code",
      "metadata": {
        "id": "ytnpAOFf0EXa"
      },
      "source": [
        "traindata_url = 'https://bitbucket.org/hyuk125/lg_dic/raw/889649d1bc273bf53967cb621a370205715b803b/dataset_day1/mnist_train.csv'\n",
        "testdata_url = 'https://bitbucket.org/hyuk125/lg_dic/raw/889649d1bc273bf53967cb621a370205715b803b/dataset_day1/mnist_test.csv'\n",
        "train_data = pd.read_csv(traindata_url)\n",
        "test_data = pd.read_csv(testdata_url)"
      ],
      "execution_count": null,
      "outputs": []
    },
    {
      "cell_type": "markdown",
      "metadata": {
        "id": "QMvL7tbO0EXb"
      },
      "source": [
        "## 데이터 확인"
      ]
    },
    {
      "cell_type": "code",
      "metadata": {
        "id": "whldAgaa0EXb"
      },
      "source": [
        "def plot_digit(data):\n",
        "    image = data.reshape(28, 28) # 1d vector를 28*28 형태로 변경\n",
        "    plt.imshow(image, cmap = matplotlib.cm.binary, \n",
        "               interpolation=\"nearest\")\n",
        "    plt.axis(\"off\")"
      ],
      "execution_count": null,
      "outputs": []
    },
    {
      "cell_type": "code",
      "metadata": {
        "id": "G8uYDI480EXd"
      },
      "source": [
        "train_data"
      ],
      "execution_count": null,
      "outputs": []
    },
    {
      "cell_type": "code",
      "metadata": {
        "id": "SfwGvw3w0EXe"
      },
      "source": [
        "index = 600\n",
        "plot_digit(train_data.values[index, 1:])\n",
        "plt.show()\n",
        "print('label: ', train_data.values[index, 0])"
      ],
      "execution_count": null,
      "outputs": []
    },
    {
      "cell_type": "code",
      "metadata": {
        "id": "z9d_GwUo0EXe"
      },
      "source": [
        "\n",
        "def plot_digit(data):\n",
        "    image = data.reshape(28, 28)\n",
        "    plt.imshow(image, cmap = matplotlib.cm.binary,\n",
        "               interpolation=\"nearest\")\n",
        "    plt.axis(\"off\")"
      ],
      "execution_count": null,
      "outputs": []
    },
    {
      "cell_type": "code",
      "metadata": {
        "id": "g1squntd0EXf"
      },
      "source": [
        "# 숫자 그림을 위한 추가 함수\n",
        "def plot_digits(instances, images_per_row=10, **options):\n",
        "    size = 28\n",
        "    images_per_row = min(len(instances), images_per_row)\n",
        "    images = [instance.reshape(size,size) for instance in instances]\n",
        "    n_rows = (len(instances) - 1) // images_per_row + 1\n",
        "    row_images = []\n",
        "    n_empty = n_rows * images_per_row - len(instances)\n",
        "    images.append(np.zeros((size, size * n_empty)))\n",
        "    for row in range(n_rows):\n",
        "        rimages = images[row * images_per_row : (row + 1) * images_per_row]\n",
        "        row_images.append(np.concatenate(rimages, axis=1))\n",
        "    image = np.concatenate(row_images, axis=0)\n",
        "    plt.imshow(image, cmap = matplotlib.cm.binary, **options)\n",
        "    plt.axis(\"off\")"
      ],
      "execution_count": null,
      "outputs": []
    },
    {
      "cell_type": "code",
      "metadata": {
        "id": "XFuWywoD0EXf"
      },
      "source": [
        "\n",
        "plt.figure(figsize=(9,9))\n",
        "example_images = train_data.values[:60000:600, 1:]\n",
        "plot_digits(example_images, images_per_row=10)\n",
        "plt.show()"
      ],
      "execution_count": null,
      "outputs": []
    },
    {
      "cell_type": "markdown",
      "metadata": {
        "id": "Y03X0wB50EXf"
      },
      "source": [
        "## Convert to 05 data"
      ]
    },
    {
      "cell_type": "code",
      "metadata": {
        "id": "OVYo3Yxi0EXg"
      },
      "source": [
        "from sklearn.preprocessing import LabelEncoder\n",
        "\n",
        "le = LabelEncoder()\n",
        "\n",
        "le.fit(train_data.label == 5)\n",
        "\n",
        "train_data.label = le.transform(train_data.label == 5)\n",
        "test_data.label = le.transform(test_data.label == 5)"
      ],
      "execution_count": null,
      "outputs": []
    },
    {
      "cell_type": "markdown",
      "metadata": {
        "id": "-YzzsS900EXg"
      },
      "source": [
        "## Deep learning - classification 모델"
      ]
    },
    {
      "cell_type": "markdown",
      "metadata": {
        "id": "yEXM7skV0EXg"
      },
      "source": [
        "### Pytorch 모델에 입력하기 위한 데이터 변환"
      ]
    },
    {
      "cell_type": "code",
      "metadata": {
        "id": "Qt7qnFc40EXh"
      },
      "source": [
        "train_data = torch.from_numpy(train_data.values).float()\n",
        "test_data = torch.from_numpy(test_data.values).float()"
      ],
      "execution_count": null,
      "outputs": []
    },
    {
      "cell_type": "code",
      "metadata": {
        "id": "lgcp_Oks0EXi"
      },
      "source": [
        "BATCH_SIZE = 15\n",
        "epochs = 2\n",
        "learning_rate = 0.001"
      ],
      "execution_count": null,
      "outputs": []
    },
    {
      "cell_type": "code",
      "metadata": {
        "id": "Bie7sRWw0EXi"
      },
      "source": [
        "\n",
        "data_loader = torch.utils.data.DataLoader(train_data,\n",
        "                            batch_size=BATCH_SIZE, \n",
        "                            shuffle=True, \n",
        "                            num_workers=0)"
      ],
      "execution_count": null,
      "outputs": []
    },
    {
      "cell_type": "markdown",
      "metadata": {
        "id": "zjICZRCn0EXj"
      },
      "source": [
        "### Deep learning 모델 정의 "
      ]
    },
    {
      "cell_type": "code",
      "metadata": {
        "id": "fFgaGfhE0EXk"
      },
      "source": [
        "class DNNModel(nn.Module):\n",
        "    def __init__(self):\n",
        "        super(DNNModel, self).__init__()\n",
        "        self.layer1 = nn.Linear(28 *28, 300)\n",
        "        self.layer2 = nn.Linear(300, 2)\n",
        "        self.relu = nn.ReLU()\n",
        "    \n",
        "        \n",
        "    def forward(self, x):\n",
        "        \n",
        "        layers = nn.Sequential(self.layer1, \n",
        "                               self.relu,\n",
        "                               self.layer2, \n",
        "                               self.relu\n",
        "                               ).to(device)\n",
        "        out = layers(x)\n",
        "        return out\n",
        "    \n",
        "model = DNNModel()\n",
        "model"
      ],
      "execution_count": null,
      "outputs": []
    },
    {
      "cell_type": "code",
      "metadata": {
        "id": "tMgLhdEy0EXl"
      },
      "source": [
        "class DNNModel(nn.Module):\n",
        "    def __init__(self):\n",
        "        super(DNNModel, self).__init__()\n",
        "        self.layer1 = nn.Linear(28 *28, 300)\n",
        "        self.layer2 = nn.Linear(300, 100)\n",
        "        self.layer3 = nn.Linear(100, 2)\n",
        "        self.relu = nn.ReLU()\n",
        "    \n",
        "        \n",
        "    def forward(self, x):\n",
        "        \n",
        "        layers = nn.Sequential(self.layer1, \n",
        "                               self.relu,\n",
        "                               self.layer2, \n",
        "                               self.relu,\n",
        "                               self.layer3).to(device)\n",
        "        out = layers(x)\n",
        "        return out\n",
        "    \n",
        "model = DNNModel()\n",
        "model"
      ],
      "execution_count": null,
      "outputs": []
    },
    {
      "cell_type": "markdown",
      "metadata": {
        "id": "12GoU9ks0EXm"
      },
      "source": [
        "### 학습 시작"
      ]
    },
    {
      "cell_type": "markdown",
      "metadata": {
        "id": "31z3uz930EXm"
      },
      "source": [
        "GPU로 넘겨야 하는것\n",
        "- model의 layer\n",
        "- cost(criterion)\n",
        "- data"
      ]
    },
    {
      "cell_type": "markdown",
      "metadata": {
        "id": "Ku_D35s90EXm"
      },
      "source": [
        "#### torch.nn.CrossEntropyLoss() 함수에 대해\n",
        "원래 cross entropy는 "
      ]
    },
    {
      "cell_type": "code",
      "metadata": {
        "id": "c0g6M5Co0EXm"
      },
      "source": [
        "from IPython.display import Image\n",
        "image_url = 'https://bitbucket.org/hyuk125/lg_dic/raw/99785e9d01523e8bb6bf78d1220c1b020fa6c7c8/image_day1/cross_entropy.png'\n",
        "Image(image_url)"
      ],
      "execution_count": null,
      "outputs": []
    },
    {
      "cell_type": "markdown",
      "metadata": {
        "id": "KeOiaj_k0EXn"
      },
      "source": [
        "pytorh.nn.CrossEntropyLoss() 는"
      ]
    },
    {
      "cell_type": "code",
      "metadata": {
        "id": "CbOdnz_k0EXn"
      },
      "source": [
        "from IPython.display import Image\n",
        "image_url = 'https://bitbucket.org/hyuk125/lg_dic/raw/99785e9d01523e8bb6bf78d1220c1b020fa6c7c8/image_day1/torch_cross_entropy.png'\n",
        "Image(image_url)"
      ],
      "execution_count": null,
      "outputs": []
    },
    {
      "cell_type": "markdown",
      "metadata": {
        "id": "bfxdahCy0EXn"
      },
      "source": [
        "softmax와 label의 elemental wise 곱을하면 label이 0인 확률들은 모두 없어지게 되어 아래 수식이 가능  \n",
        "따라서 class에는 one-hot encoding 되지 않은 값이 들어가야 함  \n",
        "x에는 soft max를 거치지 않은 벡터가 들어감(CrossEntropyLoss()에 softmax가 포함)"
      ]
    },
    {
      "cell_type": "code",
      "metadata": {
        "id": "Pf_Hn7cR0EXn"
      },
      "source": [
        "criterion = nn.CrossEntropyLoss().to(device)\n",
        "optimizer = optim.Adam(model.parameters(), lr = learning_rate)"
      ],
      "execution_count": null,
      "outputs": []
    },
    {
      "cell_type": "code",
      "metadata": {
        "id": "gtVG_pI90EXo"
      },
      "source": [
        "for epoch in range(epochs):\n",
        "    running_cost = 0.0\n",
        "\n",
        "    for step, (batch_data) in enumerate(data_loader):\n",
        "        batch_x = batch_data[:, 1:].view(-1, 28*28).to(device)\n",
        "        batch_y = batch_data[:, 0].to(device).long()\n",
        "        \n",
        "        optimizer.zero_grad()\n",
        "        \n",
        "        outputs = model(batch_x)\n",
        "        cost = criterion(outputs, batch_y)\n",
        "\n",
        "        cost.backward()\n",
        "        optimizer.step()\n",
        "        \n",
        "        running_cost += cost.item()\n",
        "        if step % 200 == 199:\n",
        "            print('[%d, %5d] cost: %.3f' % (epoch + 1, step + 1, running_cost / 200))\n",
        "            running_cost = 0.0\n",
        "            "
      ],
      "execution_count": null,
      "outputs": []
    },
    {
      "cell_type": "markdown",
      "metadata": {
        "id": "ShX4aHUp0EXp"
      },
      "source": [
        "## 정확도 판단"
      ]
    },
    {
      "cell_type": "markdown",
      "metadata": {
        "id": "4JOrIQlz0EXp"
      },
      "source": [
        "### Confusion matrix"
      ]
    },
    {
      "cell_type": "code",
      "metadata": {
        "id": "I1YmTeZ60EXr"
      },
      "source": [
        "from sklearn.metrics import confusion_matrix\n",
        "from sklearn.metrics import precision_score, recall_score"
      ],
      "execution_count": null,
      "outputs": []
    },
    {
      "cell_type": "code",
      "metadata": {
        "id": "nA9lYaoj0EXs"
      },
      "source": [
        "with torch.no_grad():\n",
        "    X_test = test_data[:, 1:].view(-1, 28 * 28).float().to(device)\n",
        "    y_test = test_data[:, 0].float()\n",
        "    \n",
        "    prediction = model(X_test).cpu()\n",
        "    print(confusion_matrix(y_test, torch.argmax(prediction, 1)))\n",
        "    print(\"==Precision==\")\n",
        "    print(precision_score(y_test, torch.argmax(prediction, 1), average=None))\n",
        "    print(precision_score(y_test, torch.argmax(prediction, 1), average='weighted'))\n",
        "    print(\"Recall\")\n",
        "    print(recall_score(y_test, torch.argmax(prediction, 1), average=None))\n",
        "    print(recall_score(y_test, torch.argmax(prediction, 1), average='weighted'))"
      ],
      "execution_count": null,
      "outputs": []
    },
    {
      "cell_type": "code",
      "metadata": {
        "id": "tNAxWOvrEAVa"
      },
      "source": [
        ""
      ],
      "execution_count": null,
      "outputs": []
    }
  ]
}