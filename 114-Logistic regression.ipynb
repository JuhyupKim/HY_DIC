{
  "nbformat": 4,
  "nbformat_minor": 0,
  "metadata": {
    "colab": {
      "name": "114-Logistic regression.ipynb",
      "provenance": [],
      "collapsed_sections": [],
      "include_colab_link": true
    },
    "kernelspec": {
      "display_name": "Python 3",
      "language": "python",
      "name": "python3"
    },
    "language_info": {
      "codemirror_mode": {
        "name": "ipython",
        "version": 3
      },
      "file_extension": ".py",
      "mimetype": "text/x-python",
      "name": "python",
      "nbconvert_exporter": "python",
      "pygments_lexer": "ipython3",
      "version": "3.6.10"
    }
  },
  "cells": [
    {
      "cell_type": "markdown",
      "metadata": {
        "id": "view-in-github",
        "colab_type": "text"
      },
      "source": [
        "<a href=\"https://colab.research.google.com/github/JuhyupKim/HY_DIC/blob/main/114-Logistic%20regression.ipynb\" target=\"_parent\"><img src=\"https://colab.research.google.com/assets/colab-badge.svg\" alt=\"Open In Colab\"/></a>"
      ]
    },
    {
      "cell_type": "markdown",
      "metadata": {
        "id": "eH5uyoAkx9MZ"
      },
      "source": [
        "# Logistic regression"
      ]
    },
    {
      "cell_type": "code",
      "metadata": {
        "id": "_cHdMs9Fx9Mk"
      },
      "source": [
        "import numpy as np\n",
        "import torch\n",
        "import torch.nn as nn\n",
        "import torch.nn.functional as F\n",
        "import torch.optim as optim\n",
        "import matplotlib.pyplot as plt"
      ],
      "execution_count": null,
      "outputs": []
    },
    {
      "cell_type": "code",
      "metadata": {
        "id": "B3bA-i2Xx9Ml"
      },
      "source": [
        "x_data = [[1, 2], [2, 3], [3, 1], [4, 3], [5, 3], [6, 2]]\n",
        "y_data = [[0], [0], [0], [1], [1], [1]]"
      ],
      "execution_count": null,
      "outputs": []
    },
    {
      "cell_type": "code",
      "metadata": {
        "id": "CXARTs37x9Ml"
      },
      "source": [
        "x_train = torch.FloatTensor(x_data)\n",
        "y_train = torch.FloatTensor(y_data)"
      ],
      "execution_count": null,
      "outputs": []
    },
    {
      "cell_type": "markdown",
      "metadata": {
        "id": "JjOkSCQjx9Mm"
      },
      "source": [
        "### Hypothesis"
      ]
    },
    {
      "cell_type": "code",
      "metadata": {
        "id": "wusUFFKjx9Mm",
        "colab": {
          "base_uri": "https://localhost:8080/",
          "height": 51
        },
        "outputId": "bdbf4eba-1490-4e79-fd31-1adab4876260"
      },
      "source": [
        "from IPython.display import Image\n",
        "image_url = 'https://bitbucket.org/hyuk125/lg_dic/raw/99785e9d01523e8bb6bf78d1220c1b020fa6c7c8/image_day1/Hypo.png'\n",
        "Image(image_url)"
      ],
      "execution_count": null,
      "outputs": [
        {
          "output_type": "execute_result",
          "data": {
            "image/png": "[encoded data removed]",
            "text/plain": [
              "<IPython.core.display.Image object>"
            ]
          },
          "metadata": {},
          "execution_count": 20
        }
      ]
    },
    {
      "cell_type": "markdown",
      "metadata": {
        "id": "eeseBf8ix9Mo"
      },
      "source": [
        "### cost"
      ]
    },
    {
      "cell_type": "code",
      "metadata": {
        "id": "NIfVjw8kx9Mp",
        "colab": {
          "base_uri": "https://localhost:8080/",
          "height": 46
        },
        "outputId": "a47735b7-edf3-483e-c940-d4bf826cdd81"
      },
      "source": [
        "from IPython.display import Image\n",
        "image_url = 'https://bitbucket.org/hyuk125/lg_dic/raw/99785e9d01523e8bb6bf78d1220c1b020fa6c7c8/image_day1/cost.png'\n",
        "Image(image_url)"
      ],
      "execution_count": null,
      "outputs": [
        {
          "output_type": "execute_result",
          "data": {
            "image/png": "[encoded data removed]",
            "text/plain": [
              "<IPython.core.display.Image object>"
            ]
          },
          "metadata": {},
          "execution_count": 21
        }
      ]
    },
    {
      "cell_type": "markdown",
      "metadata": {
        "id": "d8o-kyLix2nZ"
      },
      "source": [
        "Pytorch has binary cross entropy function:  \n",
        "torch.nn.functional.binary_cross_entropy(input, target, ...)\n"
      ]
    },
    {
      "cell_type": "code",
      "metadata": {
        "id": "47qoZfIFwukf"
      },
      "source": [
        "predict = torch.FloatTensor(np.array([[0.1], [0.2], [0.9]]))\n",
        "label = torch.FloatTensor(np.array([[0], [0], [1]]))"
      ],
      "execution_count": null,
      "outputs": []
    },
    {
      "cell_type": "code",
      "metadata": {
        "colab": {
          "base_uri": "https://localhost:8080/"
        },
        "id": "1daNd2O8wKHR",
        "outputId": "afa48ec0-68a0-4c38-f2a6-dd0ff7efb74d"
      },
      "source": [
        " F.binary_cross_entropy(predict, label)"
      ],
      "execution_count": null,
      "outputs": [
        {
          "output_type": "execute_result",
          "data": {
            "text/plain": [
              "tensor(0.1446)"
            ]
          },
          "metadata": {},
          "execution_count": 43
        }
      ]
    },
    {
      "cell_type": "markdown",
      "metadata": {
        "id": "7VNsMHEHx9Mu"
      },
      "source": [
        "## Training"
      ]
    },
    {
      "cell_type": "code",
      "metadata": {
        "id": "F27JmTK1x9Mu"
      },
      "source": [
        "class my_logistic(nn.Module):\n",
        "    def __init__(self):\n",
        "        super().__init__()\n",
        "        self.linear = nn.Linear(2, 1)\n",
        "        self.sigmoid = nn.Sigmoid() # Just add sigmoid function!\n",
        "\n",
        "    def forward(self, x):\n",
        "        return self.sigmoid(self.linear(x))"
      ],
      "execution_count": null,
      "outputs": []
    },
    {
      "cell_type": "code",
      "metadata": {
        "id": "xxSUdMQux9Mu"
      },
      "source": [
        "model = my_logistic()"
      ],
      "execution_count": null,
      "outputs": []
    },
    {
      "cell_type": "code",
      "metadata": {
        "id": "xylyl9qfx9Mv",
        "colab": {
          "base_uri": "https://localhost:8080/"
        },
        "outputId": "6427d1eb-c10f-486f-c506-0d39fc9d0f5b"
      },
      "source": [
        "# optimizer 설정\n",
        "optimizer = optim.SGD(model.parameters(), lr=1)\n",
        "\n",
        "nb_epochs = 100\n",
        "for epoch in range(nb_epochs + 1):\n",
        "\n",
        "    # H(x) 계산\n",
        "    hypothesis = model(x_train)\n",
        "\n",
        "    # cost 계산\n",
        "    cost = F.binary_cross_entropy(hypothesis, y_train)\n",
        "\n",
        "    # cost로 H(x) 개선\n",
        "    optimizer.zero_grad()\n",
        "    cost.backward()\n",
        "    optimizer.step()\n",
        "    \n",
        "    # 20번마다 로그 출력\n",
        "    if epoch % 10 == 0:\n",
        "        prediction = hypothesis >= torch.FloatTensor([0.5])\n",
        "        correct_prediction = prediction.float() == y_train\n",
        "        accuracy = correct_prediction.sum().item() / len(correct_prediction)\n",
        "        print('Epoch {:4d}/{} Cost: {:.6f} '.format(\n",
        "            epoch, nb_epochs, cost.item(), \n",
        "        ))"
      ],
      "execution_count": null,
      "outputs": [
        {
          "output_type": "stream",
          "name": "stdout",
          "text": [
            "Epoch    0/100 Cost: 2.302668 \n",
            "Epoch   10/100 Cost: 0.546537 \n",
            "Epoch   20/100 Cost: 0.407635 \n",
            "Epoch   30/100 Cost: 0.344355 \n",
            "Epoch   40/100 Cost: 0.291087 \n",
            "Epoch   50/100 Cost: 0.243137 \n",
            "Epoch   60/100 Cost: 0.200380 \n",
            "Epoch   70/100 Cost: 0.167988 \n",
            "Epoch   80/100 Cost: 0.150016 \n",
            "Epoch   90/100 Cost: 0.139079 \n",
            "Epoch  100/100 Cost: 0.129961 \n"
          ]
        }
      ]
    },
    {
      "cell_type": "markdown",
      "metadata": {
        "id": "w0ZZM-vNx9Mq"
      },
      "source": [
        "### 결과 출력"
      ]
    },
    {
      "cell_type": "code",
      "metadata": {
        "id": "RalWZsHAx9Mr"
      },
      "source": [
        "from sklearn.decomposition import PCA"
      ],
      "execution_count": null,
      "outputs": []
    },
    {
      "cell_type": "code",
      "metadata": {
        "id": "u_uGNLLrx9Ms"
      },
      "source": [
        "x1 = torch.linspace(0, 10, 100).reshape(-1, 1)\n",
        "x2 = torch.linspace(0, 10, 100).reshape(-1, 1)"
      ],
      "execution_count": null,
      "outputs": []
    },
    {
      "cell_type": "code",
      "metadata": {
        "id": "16oFvy8lx9Ms"
      },
      "source": [
        "pca = PCA(n_components=1)\n",
        "x_pca_100 = pca.fit_transform(torch.cat((x1, x2),axis=1))"
      ],
      "execution_count": null,
      "outputs": []
    },
    {
      "cell_type": "code",
      "metadata": {
        "id": "eWxjfCAax9Ms"
      },
      "source": [
        "x_pca = pca.transform(x_train)"
      ],
      "execution_count": null,
      "outputs": []
    },
    {
      "cell_type": "code",
      "metadata": {
        "id": "8z0Q6sTwx9Mt"
      },
      "source": [
        "hypothesis = model(torch.cat((x1, x2),axis=1))"
      ],
      "execution_count": null,
      "outputs": []
    },
    {
      "cell_type": "code",
      "metadata": {
        "id": "XRNas6nwx9Mt"
      },
      "source": [
        "hx = hypothesis.detach().numpy()"
      ],
      "execution_count": null,
      "outputs": []
    },
    {
      "cell_type": "code",
      "metadata": {
        "id": "uNVnuZFOx9Mu",
        "colab": {
          "base_uri": "https://localhost:8080/",
          "height": 282
        },
        "outputId": "e939ba6a-90f4-4578-a153-5b5d9407e9d6"
      },
      "source": [
        "plt.scatter(x_pca, y_train, s=50)\n",
        "plt.scatter(x_pca_100, hx, s=10)"
      ],
      "execution_count": null,
      "outputs": [
        {
          "output_type": "execute_result",
          "data": {
            "text/plain": [
              "<matplotlib.collections.PathCollection at 0x7f43b2bc0350>"
            ]
          },
          "metadata": {},
          "execution_count": 17
        },
        {
          "output_type": "display_data",
          "data": {
            "image/png": "[encoded data removed]",
            "text/plain": [
              "<Figure size 432x288 with 1 Axes>"
            ]
          },
          "metadata": {
            "needs_background": "light"
          }
        }
      ]
    },
    {
      "cell_type": "markdown",
      "metadata": {
        "id": "jHwQeNn5x9Mw"
      },
      "source": [
        "### Accuracy"
      ]
    },
    {
      "cell_type": "code",
      "metadata": {
        "id": "h3Q1SMe6x9Mw",
        "colab": {
          "base_uri": "https://localhost:8080/"
        },
        "outputId": "c57bf2de-5907-4a75-d4c0-829be433e688"
      },
      "source": [
        "hypothesis = model(x_train)\n",
        "\n",
        "prediction = hypothesis >= torch.FloatTensor([0.5])\n",
        "\n",
        "correct_prediction = prediction.float() == y_train\n",
        "\n",
        "accuracy = correct_prediction.sum().item() / correct_prediction.shape[0]\n",
        "\n",
        "accuracy * 100"
      ],
      "execution_count": null,
      "outputs": [
        {
          "output_type": "execute_result",
          "data": {
            "text/plain": [
              "100.0"
            ]
          },
          "metadata": {},
          "execution_count": 18
        }
      ]
    },
    {
      "cell_type": "code",
      "metadata": {
        "id": "cN7Cpm7eT8X6"
      },
      "source": [
        ""
      ],
      "execution_count": null,
      "outputs": []
    }
  ]
}