{
  "nbformat": 4,
  "nbformat_minor": 0,
  "metadata": {
    "colab": {
      "name": "126-Deep learning_mnist-Quiz.ipynb",
      "provenance": [],
      "collapsed_sections": [],
      "include_colab_link": true
    },
    "kernelspec": {
      "display_name": "Python 3",
      "language": "python",
      "name": "python3"
    },
    "language_info": {
      "codemirror_mode": {
        "name": "ipython",
        "version": 3
      },
      "file_extension": ".py",
      "mimetype": "text/x-python",
      "name": "python",
      "nbconvert_exporter": "python",
      "pygments_lexer": "ipython3",
      "version": "3.6.10"
    }
  },
  "cells": [
    {
      "cell_type": "markdown",
      "metadata": {
        "id": "view-in-github",
        "colab_type": "text"
      },
      "source": [
        "<a href=\"https://colab.research.google.com/github/JuhyupKim/HY_DIC/blob/main/126-Deep%20learning_mnist-Quiz.ipynb\" target=\"_parent\"><img src=\"https://colab.research.google.com/assets/colab-badge.svg\" alt=\"Open In Colab\"/></a>"
      ]
    },
    {
      "cell_type": "markdown",
      "metadata": {
        "id": "oj1ZL1S50INh"
      },
      "source": [
        "# Deep Learning"
      ]
    },
    {
      "cell_type": "code",
      "metadata": {
        "id": "UBz9qjeT18xu"
      },
      "source": [
        "from google.colab import drive\n",
        "drive.mount('/content/drive')\n",
        "\n",
        "basicpath = '/content/drive/MyDrive/LG_DIC_lecture/1일차/실습'\n"
      ],
      "execution_count": null,
      "outputs": []
    },
    {
      "cell_type": "code",
      "metadata": {
        "id": "O9a2Idb40INj"
      },
      "source": [
        "import pandas as pd\n",
        "import os\n",
        "import numpy as np\n",
        "import matplotlib\n",
        "import matplotlib.pyplot as plt\n",
        "import torch\n",
        "import torch.nn as nn\n",
        "import torch.optim as optim"
      ],
      "execution_count": null,
      "outputs": []
    },
    {
      "cell_type": "code",
      "metadata": {
        "id": "P0th4qaE0INk"
      },
      "source": [
        "device = 'cuda' if torch.cuda.is_available() else 'cpu'"
      ],
      "execution_count": null,
      "outputs": []
    },
    {
      "cell_type": "markdown",
      "metadata": {
        "id": "FWU0RbJd0INk"
      },
      "source": [
        "## Data import"
      ]
    },
    {
      "cell_type": "code",
      "metadata": {
        "id": "oGQgQF3z0INl"
      },
      "source": [
        "path = os.path.join(basicpath, 'Dataset/Classification')\n",
        "train_csv = 'mnist_train.csv'\n",
        "test_csv = 'mnist_test.csv'\n",
        "train_data = pd.read_csv(os.path.join(path, train_csv))\n",
        "test_data = pd.read_csv(os.path.join(path, test_csv))"
      ],
      "execution_count": null,
      "outputs": []
    },
    {
      "cell_type": "markdown",
      "metadata": {
        "id": "dZknZ9xJ0INl"
      },
      "source": [
        "## Deep learning - classification 모델"
      ]
    },
    {
      "cell_type": "markdown",
      "metadata": {
        "id": "1Vq5kSRg0INm"
      },
      "source": [
        "### Pytorch 모델에 입력하기 위한 데이터 변환"
      ]
    },
    {
      "cell_type": "code",
      "metadata": {
        "id": "HQtedeGj0INm"
      },
      "source": [
        "train_data = torch.from_numpy(train_data.values).float()\n",
        "test_data = torch.from_numpy(test_data.values).float()"
      ],
      "execution_count": null,
      "outputs": []
    },
    {
      "cell_type": "markdown",
      "metadata": {
        "id": "dNCOgIYZ0INm"
      },
      "source": [
        "# 과제 3-1. Training data를 pytorch 모델에 적용하기 위한 data loader를 만드시오"
      ]
    },
    {
      "cell_type": "code",
      "metadata": {
        "id": "UhNZllwK0INn"
      },
      "source": [
        "BATCH_SIZE = 15\n",
        "#답변\n",
        "\n",
        "\n",
        "\n",
        "\n"
      ],
      "execution_count": null,
      "outputs": []
    },
    {
      "cell_type": "markdown",
      "metadata": {
        "id": "ToGrnfWL0INn"
      },
      "source": [
        "# 과제 3-2. mnist 전체 분류를 위한 딥러닝 모델을 만들고, 훈련시켜 보시오. 모델과 각종 파라미터는 자유입니다."
      ]
    },
    {
      "cell_type": "code",
      "metadata": {
        "id": "Yh1ppWeLPOf-"
      },
      "source": [
        "epochs = \n",
        "learning_rate =\n",
        "drop_prob = "
      ],
      "execution_count": null,
      "outputs": []
    },
    {
      "cell_type": "code",
      "metadata": {
        "id": "iT5ROBKx0INn"
      },
      "source": [
        "# Make deeplearning model\n",
        "class DNNModel(nn.Module):\n",
        "    \n",
        "\n",
        "\n",
        "\n",
        "\n",
        "\n",
        "\n",
        "\n",
        "\n",
        "\n",
        "\n"
      ],
      "execution_count": null,
      "outputs": []
    },
    {
      "cell_type": "code",
      "metadata": {
        "id": "zVsPaAZ-fP5F"
      },
      "source": [
        "# Training model\n",
        "for epoch in range(epochs):\n",
        "\n",
        "\n",
        "\n",
        "\n",
        "\n",
        "\n",
        "\n",
        "\n",
        "\n",
        "\n",
        "\n",
        "\n"
      ],
      "execution_count": null,
      "outputs": []
    },
    {
      "cell_type": "markdown",
      "metadata": {
        "id": "XjQutGxy0INo"
      },
      "source": [
        "## 정확도 판단"
      ]
    },
    {
      "cell_type": "markdown",
      "metadata": {
        "id": "OHECPsvl0INo"
      },
      "source": [
        "### Confusion matrix"
      ]
    },
    {
      "cell_type": "code",
      "metadata": {
        "id": "y97BsM250INo"
      },
      "source": [
        "from sklearn.metrics import confusion_matrix\n",
        "from sklearn.metrics import precision_score, recall_score"
      ],
      "execution_count": null,
      "outputs": []
    },
    {
      "cell_type": "code",
      "metadata": {
        "id": "FdeOkhLe0INp"
      },
      "source": [
        "with torch.no_grad():\n",
        "    X_test = test_data[:, 1:].view(-1, 28 * 28).float().to(device)\n",
        "    y_test = test_data[:, 0].float()\n",
        "    \n",
        "    prediction = model(X_test).cpu()\n",
        "    print(confusion_matrix(torch.argmax(prediction, 1), y_test))\n",
        "    print(\"==Precision==\")\n",
        "    print(precision_score(torch.argmax(prediction, 1), y_test, average=None))\n",
        "    print(precision_score(torch.argmax(prediction, 1), y_test, average='weighted'))\n",
        "    print(\"Recall\")\n",
        "    print(recall_score(torch.argmax(prediction, 1), y_test, average=None))\n",
        "    print(recall_score(torch.argmax(prediction, 1), y_test, average='weighted'))"
      ],
      "execution_count": null,
      "outputs": []
    }
  ]
}