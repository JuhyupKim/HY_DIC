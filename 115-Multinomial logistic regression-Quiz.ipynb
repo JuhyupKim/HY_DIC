{
  "nbformat": 4,
  "nbformat_minor": 0,
  "metadata": {
    "colab": {
      "name": "115-Multinomial logistic regression-Quiz.ipynb",
      "provenance": [],
      "collapsed_sections": [],
      "include_colab_link": true
    },
    "kernelspec": {
      "display_name": "Python 3",
      "language": "python",
      "name": "python3"
    },
    "language_info": {
      "codemirror_mode": {
        "name": "ipython",
        "version": 3
      },
      "file_extension": ".py",
      "mimetype": "text/x-python",
      "name": "python",
      "nbconvert_exporter": "python",
      "pygments_lexer": "ipython3",
      "version": "3.6.10"
    }
  },
  "cells": [
    {
      "cell_type": "markdown",
      "metadata": {
        "id": "view-in-github",
        "colab_type": "text"
      },
      "source": [
        "<a href=\"https://colab.research.google.com/github/JuhyupKim/HY_DIC/blob/main/115-Multinomial%20logistic%20regression-Quiz.ipynb\" target=\"_parent\"><img src=\"https://colab.research.google.com/assets/colab-badge.svg\" alt=\"Open In Colab\"/></a>"
      ]
    },
    {
      "cell_type": "markdown",
      "metadata": {
        "id": "eH5uyoAkx9MZ"
      },
      "source": [
        "# Multinomial logistic regression"
      ]
    },
    {
      "cell_type": "code",
      "metadata": {
        "id": "_cHdMs9Fx9Mk"
      },
      "source": [
        "import numpy as np\n",
        "import torch\n",
        "import torch.nn as nn\n",
        "import torch.nn.functional as F\n",
        "import torch.optim as optim\n",
        "import matplotlib.pyplot as plt"
      ],
      "execution_count": null,
      "outputs": []
    },
    {
      "cell_type": "code",
      "metadata": {
        "id": "B3bA-i2Xx9Ml"
      },
      "source": [
        "x_data = [[1, 2, 1, 1],\n",
        "           [2, 1, 3, 2],\n",
        "           [3, 1, 3, 4],\n",
        "           [4, 1, 5, 5],\n",
        "           [1, 7, 5, 5],\n",
        "           [1, 2, 5, 6],\n",
        "           [1, 6, 6, 6],\n",
        "           [1, 7, 7, 7]]\n",
        "y_data = [2, 2, 2, 1, 1, 1, 0, 0]"
      ],
      "execution_count": null,
      "outputs": []
    },
    {
      "cell_type": "code",
      "metadata": {
        "id": "CXARTs37x9Ml"
      },
      "source": [
        "x_train = torch.FloatTensor(x_data)\n",
        "y_train = torch.LongTensor(y_data)"
      ],
      "execution_count": null,
      "outputs": []
    },
    {
      "cell_type": "code",
      "metadata": {
        "id": "h7PspK6y4kN-"
      },
      "source": [
        "from sklearn.decomposition import PCA\n",
        "pca = PCA(n_components=2)\n",
        "x_pca = pca.fit_transform(x_train)\n",
        "\n",
        "for label in range(3):\n",
        "    x_one_pre = x_pca[y_train==label]\n",
        "    plt.scatter(x_one_pre[:, 0], x_one_pre[:, 1])"
      ],
      "execution_count": null,
      "outputs": []
    },
    {
      "cell_type": "markdown",
      "metadata": {
        "id": "eeseBf8ix9Mo"
      },
      "source": [
        "### cost"
      ]
    },
    {
      "cell_type": "code",
      "metadata": {
        "id": "NIfVjw8kx9Mp"
      },
      "source": [
        "from IPython.display import Image\n",
        "image_url = 'https://bitbucket.org/hyuk125/lg_dic/raw/99785e9d01523e8bb6bf78d1220c1b020fa6c7c8/image_day1/cross_entropy.png'\n",
        "Image(image_url)"
      ],
      "execution_count": null,
      "outputs": []
    },
    {
      "cell_type": "markdown",
      "metadata": {
        "id": "d8o-kyLix2nZ"
      },
      "source": [
        "Pytorch has cross entropy function:  \n",
        "torch.nn.functional.cross_entropy(input, target, ...)\n"
      ]
    },
    {
      "cell_type": "code",
      "metadata": {
        "id": "P6ZVq3ZW1MwP"
      },
      "source": [
        "from IPython.display import Image\n",
        "image_url = 'https://bitbucket.org/hyuk125/lg_dic/raw/99785e9d01523e8bb6bf78d1220c1b020fa6c7c8/image_day1/torch_cross_entropy.png'\n",
        "Image(image_url)"
      ],
      "execution_count": null,
      "outputs": []
    },
    {
      "cell_type": "code",
      "metadata": {
        "id": "47qoZfIFwukf"
      },
      "source": [
        "predict = torch.FloatTensor(np.array([[0.5, 0.2], [0.1, 0.7], [0.9, 2.3]]))\n",
        "label = torch.FloatTensor(np.array([0, 0, 1])).long()"
      ],
      "execution_count": null,
      "outputs": []
    },
    {
      "cell_type": "code",
      "metadata": {
        "id": "1daNd2O8wKHR"
      },
      "source": [
        " F.cross_entropy(predict, label)"
      ],
      "execution_count": null,
      "outputs": []
    },
    {
      "cell_type": "markdown",
      "metadata": {
        "id": "7VNsMHEHx9Mu"
      },
      "source": [
        "## 과제2. 위 데이터를 nn.Module을 활용하여 multinomial logisitc regression하는 코드를 작성하시오\n",
        "#### 단, epoch=1000, learning rate=1로 하시오"
      ]
    },
    {
      "cell_type": "code",
      "metadata": {
        "id": "F27JmTK1x9Mu"
      },
      "source": [
        "class my_multilogic(nn.Module):\n",
        "\n",
        "\n",
        "\n",
        "\n",
        "\n",
        "\n"
      ],
      "execution_count": null,
      "outputs": []
    },
    {
      "cell_type": "code",
      "metadata": {
        "id": "xxSUdMQux9Mu"
      },
      "source": [
        "model = my_multilogic()"
      ],
      "execution_count": null,
      "outputs": []
    },
    {
      "cell_type": "code",
      "metadata": {
        "id": "xylyl9qfx9Mv"
      },
      "source": [
        "# Training\n",
        "\n",
        "\n",
        "\n",
        "\n",
        "\n",
        "\n",
        "\n",
        "\n",
        "\n",
        "\n"
      ],
      "execution_count": null,
      "outputs": []
    },
    {
      "cell_type": "markdown",
      "metadata": {
        "id": "w0ZZM-vNx9Mq"
      },
      "source": [
        "### 결과 출력"
      ]
    },
    {
      "cell_type": "code",
      "metadata": {
        "id": "Nkhh0qcz214E"
      },
      "source": [
        "pca = PCA(n_components=2)\n",
        "x_pca = pca.fit_transform(x_train)"
      ],
      "execution_count": null,
      "outputs": []
    },
    {
      "cell_type": "code",
      "metadata": {
        "id": "10ARnGlG3EZi"
      },
      "source": [
        "torch.max(model(x_train), axis=1).indices == 2"
      ],
      "execution_count": null,
      "outputs": []
    },
    {
      "cell_type": "code",
      "metadata": {
        "id": "TFDlFk_43aq8"
      },
      "source": [
        "for predict in range(3):\n",
        "    x_one_pre = x_pca[torch.max(model(x_train), axis=1).indices==predict]\n",
        "    plt.scatter(x_one_pre[:, 0], x_one_pre[:, 1])"
      ],
      "execution_count": null,
      "outputs": []
    },
    {
      "cell_type": "markdown",
      "metadata": {
        "id": "jHwQeNn5x9Mw"
      },
      "source": [
        "### Accuracy"
      ]
    },
    {
      "cell_type": "code",
      "metadata": {
        "id": "h3Q1SMe6x9Mw"
      },
      "source": [
        "hypothesis = model(x_train)\n",
        "\n",
        "prediction = torch.max(model(x_train), axis=1).indices\n",
        "\n",
        "correct_prediction = prediction.float() == y_train\n",
        "\n",
        "accuracy = correct_prediction.sum().item() / correct_prediction.shape[0]\n",
        "\n",
        "accuracy * 100"
      ],
      "execution_count": null,
      "outputs": []
    },
    {
      "cell_type": "code",
      "metadata": {
        "id": "cN7Cpm7eT8X6"
      },
      "source": [
        ""
      ],
      "execution_count": null,
      "outputs": []
    }
  ]
}