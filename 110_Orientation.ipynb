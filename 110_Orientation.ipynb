{
  "nbformat": 4,
  "nbformat_minor": 0,
  "metadata": {
    "kernelspec": {
      "display_name": "Python 3",
      "language": "python",
      "name": "python3"
    },
    "language_info": {
      "codemirror_mode": {
        "name": "ipython",
        "version": 3
      },
      "file_extension": ".py",
      "mimetype": "text/x-python",
      "name": "python",
      "nbconvert_exporter": "python",
      "pygments_lexer": "ipython3",
      "version": "3.6.10"
    },
    "colab": {
      "name": "110-Orientation.ipynb",
      "provenance": [],
      "collapsed_sections": [],
      "include_colab_link": true
    },
    "accelerator": "GPU"
  },
  "cells": [
    {
      "cell_type": "markdown",
      "metadata": {
        "id": "view-in-github",
        "colab_type": "text"
      },
      "source": [
        "<a href=\"https://colab.research.google.com/github/JuhyupKim/HY_DIC/blob/main/110_Orientation.ipynb\" target=\"_parent\"><img src=\"https://colab.research.google.com/assets/colab-badge.svg\" alt=\"Open In Colab\"/></a>"
      ]
    },
    {
      "cell_type": "markdown",
      "metadata": {
        "id": "FQSLhF1Wwf2a"
      },
      "source": [
        "# Colaboratory 란?\n",
        "Colaboratory, 줄여서 colab을 사용하면 브라우져에서 python을 작성하고 실행할 수 있습니다. Colab은 다음과 같은 특징을 가집니다.\n",
        "- python은 google *cloud* 기반의 서버에서 실행되므로 사용자 PC의 부담이 없음\n",
        "- Google에서 제공하는 GPU 및 TPU의 무료 엑세스\n"
      ]
    },
    {
      "cell_type": "markdown",
      "metadata": {
        "id": "AxHH5MJAwf2k"
      },
      "source": [
        "# Hello world, hello colab"
      ]
    },
    {
      "cell_type": "markdown",
      "metadata": {
        "id": "Fvx1tHQJFgWo"
      },
      "source": [
        "지금 보고계신 페이지는 정적 웹페이지가 아닌, interpreter 환경인 jupyter notebook 기반의 colab입니다. \n",
        "\n",
        "Colab에서는 입력 가능한 하나의 칸을 cell이라고 부릅니다. 현재 cell은 markdown 기반의 text cell이며, 다음은 간단한 Python script가 포함된 code cell입니다. "
      ]
    },
    {
      "cell_type": "code",
      "metadata": {
        "id": "DhGp8ui1FfwE",
        "colab": {
          "base_uri": "https://localhost:8080/"
        },
        "outputId": "47543b1d-f711-4b6c-f005-d554e9b9e7dc"
      },
      "source": [
        "print('Hello world, hello colab')\n",
        "testnumber = 120 * 60\n",
        "print(testnumber)"
      ],
      "execution_count": null,
      "outputs": [
        {
          "output_type": "stream",
          "name": "stdout",
          "text": [
            "Hello world, hello colab\n",
            "7200\n"
          ]
        }
      ]
    },
    {
      "cell_type": "markdown",
      "metadata": {
        "id": "4jQNTQ-_GYd-"
      },
      "source": [
        "위 cell의 코드를 실행하려면 cell을 클릭하여 코드 왼쪽의 실행 버튼을 누르거나, 단축키 **'Ctrl+Enter / Shift+Enter'**를 사용하세요. Cell을 클릭하면 코드를 수정할 수 있습니다.\n",
        "\n",
        "특정 셀에서 정의한 변수는 나중에 다른 셀에서 사용이 가능합니다."
      ]
    },
    {
      "cell_type": "code",
      "metadata": {
        "id": "6MowfvHNHIIa",
        "colab": {
          "base_uri": "https://localhost:8080/"
        },
        "outputId": "856b7527-cf01-4c34-c743-444c85505751"
      },
      "source": [
        "print(testnumber * 20)"
      ],
      "execution_count": null,
      "outputs": [
        {
          "output_type": "stream",
          "name": "stdout",
          "text": [
            "144000\n"
          ]
        }
      ]
    },
    {
      "cell_type": "markdown",
      "metadata": {
        "id": "_dKSPFDYHXMw"
      },
      "source": [
        "Colab을 수정하고 저장하면 해당 파일은 google drive계정의 폴더에 저장됩니다."
      ]
    },
    {
      "cell_type": "markdown",
      "metadata": {
        "id": "sj_G2SKVHhkE"
      },
      "source": [
        "# Colab 사양 및 GPU 사용"
      ]
    },
    {
      "cell_type": "markdown",
      "metadata": {
        "id": "ICLHCZmqKXEg"
      },
      "source": [
        "Colab은 Linux 기반입니다. Linux 명령어 앞에 !를 붙이면 해당 명령어를 실행할 수 있습니다."
      ]
    },
    {
      "cell_type": "markdown",
      "metadata": {
        "id": "ILT8zT-MKkkI"
      },
      "source": [
        "- 운영체제"
      ]
    },
    {
      "cell_type": "code",
      "metadata": {
        "id": "66_6WnobHq8Z",
        "colab": {
          "base_uri": "https://localhost:8080/"
        },
        "outputId": "7510d589-275c-45be-af87-8439202f8564"
      },
      "source": [
        "!cat /etc/issue.net"
      ],
      "execution_count": null,
      "outputs": [
        {
          "output_type": "stream",
          "name": "stdout",
          "text": [
            "Ubuntu 18.04.5 LTS\n"
          ]
        }
      ]
    },
    {
      "cell_type": "markdown",
      "metadata": {
        "id": "UsgjqTvRKWP7"
      },
      "source": [
        "- CPU 사양"
      ]
    },
    {
      "cell_type": "code",
      "metadata": {
        "id": "9wPtWCG2Krf6",
        "colab": {
          "base_uri": "https://localhost:8080/"
        },
        "outputId": "2ae30cb0-c1cc-47a8-db0a-df01a2370e33"
      },
      "source": [
        "!cat /proc/cpuinfo"
      ],
      "execution_count": null,
      "outputs": [
        {
          "output_type": "stream",
          "name": "stdout",
          "text": [
            "processor\t: 0\n",
            "vendor_id\t: GenuineIntel\n",
            "cpu family\t: 6\n",
            "model\t\t: 63\n",
            "model name\t: Intel(R) Xeon(R) CPU @ 2.30GHz\n",
            "stepping\t: 0\n",
            "microcode\t: 0x1\n",
            "cpu MHz\t\t: 2299.998\n",
            "cache size\t: 46080 KB\n",
            "physical id\t: 0\n",
            "siblings\t: 2\n",
            "core id\t\t: 0\n",
            "cpu cores\t: 1\n",
            "apicid\t\t: 0\n",
            "initial apicid\t: 0\n",
            "fpu\t\t: yes\n",
            "fpu_exception\t: yes\n",
            "cpuid level\t: 13\n",
            "wp\t\t: yes\n",
            "flags\t\t: fpu vme de pse tsc msr pae mce cx8 apic sep mtrr pge mca cmov pat pse36 clflush mmx fxsr sse sse2 ss ht syscall nx pdpe1gb rdtscp lm constant_tsc rep_good nopl xtopology nonstop_tsc cpuid tsc_known_freq pni pclmulqdq ssse3 fma cx16 pcid sse4_1 sse4_2 x2apic movbe popcnt aes xsave avx f16c rdrand hypervisor lahf_lm abm invpcid_single ssbd ibrs ibpb stibp fsgsbase tsc_adjust bmi1 avx2 smep bmi2 erms invpcid xsaveopt arat md_clear arch_capabilities\n",
            "bugs\t\t: cpu_meltdown spectre_v1 spectre_v2 spec_store_bypass l1tf mds swapgs\n",
            "bogomips\t: 4599.99\n",
            "clflush size\t: 64\n",
            "cache_alignment\t: 64\n",
            "address sizes\t: 46 bits physical, 48 bits virtual\n",
            "power management:\n",
            "\n",
            "processor\t: 1\n",
            "vendor_id\t: GenuineIntel\n",
            "cpu family\t: 6\n",
            "model\t\t: 63\n",
            "model name\t: Intel(R) Xeon(R) CPU @ 2.30GHz\n",
            "stepping\t: 0\n",
            "microcode\t: 0x1\n",
            "cpu MHz\t\t: 2299.998\n",
            "cache size\t: 46080 KB\n",
            "physical id\t: 0\n",
            "siblings\t: 2\n",
            "core id\t\t: 0\n",
            "cpu cores\t: 1\n",
            "apicid\t\t: 1\n",
            "initial apicid\t: 1\n",
            "fpu\t\t: yes\n",
            "fpu_exception\t: yes\n",
            "cpuid level\t: 13\n",
            "wp\t\t: yes\n",
            "flags\t\t: fpu vme de pse tsc msr pae mce cx8 apic sep mtrr pge mca cmov pat pse36 clflush mmx fxsr sse sse2 ss ht syscall nx pdpe1gb rdtscp lm constant_tsc rep_good nopl xtopology nonstop_tsc cpuid tsc_known_freq pni pclmulqdq ssse3 fma cx16 pcid sse4_1 sse4_2 x2apic movbe popcnt aes xsave avx f16c rdrand hypervisor lahf_lm abm invpcid_single ssbd ibrs ibpb stibp fsgsbase tsc_adjust bmi1 avx2 smep bmi2 erms invpcid xsaveopt arat md_clear arch_capabilities\n",
            "bugs\t\t: cpu_meltdown spectre_v1 spectre_v2 spec_store_bypass l1tf mds swapgs\n",
            "bogomips\t: 4599.99\n",
            "clflush size\t: 64\n",
            "cache_alignment\t: 64\n",
            "address sizes\t: 46 bits physical, 48 bits virtual\n",
            "power management:\n",
            "\n"
          ]
        }
      ]
    },
    {
      "cell_type": "markdown",
      "metadata": {
        "id": "R2CZcIDlKtJZ"
      },
      "source": [
        "- 메모리 사양"
      ]
    },
    {
      "cell_type": "code",
      "metadata": {
        "id": "9emhQstMKxkS",
        "colab": {
          "base_uri": "https://localhost:8080/"
        },
        "outputId": "6bcd1f61-5e01-4288-ab81-d90291cbf969"
      },
      "source": [
        "!cat /proc/meminfo"
      ],
      "execution_count": null,
      "outputs": [
        {
          "output_type": "stream",
          "name": "stdout",
          "text": [
            "MemTotal:       13302916 kB\n",
            "MemFree:        10410904 kB\n",
            "MemAvailable:   12482136 kB\n",
            "Buffers:          128620 kB\n",
            "Cached:          2076320 kB\n",
            "SwapCached:            0 kB\n",
            "Active:          1008380 kB\n",
            "Inactive:        1604604 kB\n",
            "Active(anon):     370316 kB\n",
            "Inactive(anon):      456 kB\n",
            "Active(file):     638064 kB\n",
            "Inactive(file):  1604148 kB\n",
            "Unevictable:           0 kB\n",
            "Mlocked:               0 kB\n",
            "SwapTotal:             0 kB\n",
            "SwapFree:              0 kB\n",
            "Dirty:              1764 kB\n",
            "Writeback:             0 kB\n",
            "AnonPages:        407972 kB\n",
            "Mapped:           239268 kB\n",
            "Shmem:              1184 kB\n",
            "KReclaimable:     141200 kB\n",
            "Slab:             190624 kB\n",
            "SReclaimable:     141200 kB\n",
            "SUnreclaim:        49424 kB\n",
            "KernelStack:        5008 kB\n",
            "PageTables:         5528 kB\n",
            "NFS_Unstable:          0 kB\n",
            "Bounce:                0 kB\n",
            "WritebackTmp:          0 kB\n",
            "CommitLimit:     6651456 kB\n",
            "Committed_AS:    3021680 kB\n",
            "VmallocTotal:   34359738367 kB\n",
            "VmallocUsed:       44996 kB\n",
            "VmallocChunk:          0 kB\n",
            "Percpu:             1400 kB\n",
            "AnonHugePages:      2048 kB\n",
            "ShmemHugePages:        0 kB\n",
            "ShmemPmdMapped:        0 kB\n",
            "FileHugePages:         0 kB\n",
            "FilePmdMapped:         0 kB\n",
            "CmaTotal:              0 kB\n",
            "CmaFree:               0 kB\n",
            "HugePages_Total:       0\n",
            "HugePages_Free:        0\n",
            "HugePages_Rsvd:        0\n",
            "HugePages_Surp:        0\n",
            "Hugepagesize:       2048 kB\n",
            "Hugetlb:               0 kB\n",
            "DirectMap4k:      152384 kB\n",
            "DirectMap2M:     4038656 kB\n",
            "DirectMap1G:    11534336 kB\n"
          ]
        }
      ]
    },
    {
      "cell_type": "markdown",
      "metadata": {
        "id": "XmTafJrKK67j"
      },
      "source": [
        "Colab은 GPU를 무료로 사용할 수 있습니다. 메뉴의 런타임>런타임 유형 변경>하드웨어 가속기를 GPU로 바꾸면 GPU를 활용 가능한 상태로 바뀝니다."
      ]
    },
    {
      "cell_type": "code",
      "metadata": {
        "id": "zJ-264q5LnPC",
        "colab": {
          "base_uri": "https://localhost:8080/"
        },
        "outputId": "8d8ebe30-2c65-41d0-f83a-53963170d9b4"
      },
      "source": [
        "!nvidia-smi"
      ],
      "execution_count": null,
      "outputs": [
        {
          "output_type": "stream",
          "name": "stdout",
          "text": [
            "Thu Oct  7 06:35:38 2021       \n",
            "+-----------------------------------------------------------------------------+\n",
            "| NVIDIA-SMI 470.74       Driver Version: 460.32.03    CUDA Version: 11.2     |\n",
            "|-------------------------------+----------------------+----------------------+\n",
            "| GPU  Name        Persistence-M| Bus-Id        Disp.A | Volatile Uncorr. ECC |\n",
            "| Fan  Temp  Perf  Pwr:Usage/Cap|         Memory-Usage | GPU-Util  Compute M. |\n",
            "|                               |                      |               MIG M. |\n",
            "|===============================+======================+======================|\n",
            "|   0  Tesla K80           Off  | 00000000:00:04.0 Off |                    0 |\n",
            "| N/A   35C    P8    26W / 149W |      0MiB / 11441MiB |      0%      Default |\n",
            "|                               |                      |                  N/A |\n",
            "+-------------------------------+----------------------+----------------------+\n",
            "                                                                               \n",
            "+-----------------------------------------------------------------------------+\n",
            "| Processes:                                                                  |\n",
            "|  GPU   GI   CI        PID   Type   Process name                  GPU Memory |\n",
            "|        ID   ID                                                   Usage      |\n",
            "|=============================================================================|\n",
            "|  No running processes found                                                 |\n",
            "+-----------------------------------------------------------------------------+\n"
          ]
        }
      ]
    },
    {
      "cell_type": "markdown",
      "metadata": {
        "id": "Hts0oN0gLokG"
      },
      "source": [
        "Colab에서 제공하는 GPU는 nvidia tesla K80으로, 기본적인 딥러닝 모델을 학습시키는 데에 문제가 없는 성능을 가지고 있습니다. 다만, GPU를 활용하면 해당 colab notebook의 최대 실행시간이 12시간으로 제한됩니다. 이를 연장하려면 추가적인 결제가 필요합니다."
      ]
    },
    {
      "cell_type": "markdown",
      "metadata": {
        "id": "IJQGeR4zNcjt"
      },
      "source": [
        "# Google drive 연동"
      ]
    },
    {
      "cell_type": "markdown",
      "metadata": {
        "id": "ftDFBvjdNem0"
      },
      "source": [
        "colab에 데이터를 로드할 때 로컬 컴퓨터의 파일을 업로드 할 수도 있지만, colab의 런타임이 종료되면 업로드한 파일이 사라져 매번 새로 업로드 해야하는 불편함이 있습니다.\n",
        "\n",
        "따라서 보통 colab에 Google drive를 마운트 하고, drive에서 파일을 가져오는 방식으로 주로 활용합니다."
      ]
    },
    {
      "cell_type": "markdown",
      "metadata": {
        "id": "_3a2EY3COBbt"
      },
      "source": [
        "##  Google Drive 마운트하기\n",
        "\n",
        "아래의 예시에서는 승인 코드를 사용해 런타임에 Google Drive를 마운트하는 방법 및 이 드라이브에서 파일을 쓰고 읽는 방법을 보여 줍니다. 이 예시를 실행하면 <a href=\"https://drive.google.com/\">https://drive.google.com/</a>에 새 파일&#40;<code>foo.txt</code>&#41;이 표시됩니다.\n"
      ]
    },
    {
      "cell_type": "markdown",
      "metadata": {
        "id": "R5i8TO-zOcDC"
      },
      "source": [
        "위 코드를 실행시키면 authorization code를 받을 수 있는 링크가 나옵니다. 해당 링크에서 code를 복사하여 입력하면 mount가 완료됩니다.\n",
        "\n",
        "마운트가 완료되면, '/content/drive/My Drive' 의 경로로 본인의 google dirve에 접근할 수 있습니다."
      ]
    },
    {
      "cell_type": "code",
      "metadata": {
        "colab": {
          "base_uri": "https://localhost:8080/"
        },
        "id": "eIKkwrvLnHw7",
        "outputId": "f308afcb-6efe-42ea-b217-8f35f4295b5a"
      },
      "source": [
        "from google.colab import drive\n",
        "drive.mount('/content/drive')"
      ],
      "execution_count": null,
      "outputs": [
        {
          "output_type": "stream",
          "name": "stdout",
          "text": [
            "Drive already mounted at /content/drive; to attempt to forcibly remount, call drive.mount(\"/content/drive\", force_remount=True).\n"
          ]
        }
      ]
    },
    {
      "cell_type": "code",
      "metadata": {
        "id": "-VXuxFceOWAN",
        "colab": {
          "base_uri": "https://localhost:8080/"
        },
        "outputId": "ca57ce80-4de5-4009-a91c-fcca5b4dfb5a"
      },
      "source": [
        "with open('/content/drive/My Drive/foo.txt', 'w') as f:\n",
        "  f.write('Hello Google Drive!')\n",
        "!cat /content/drive/My\\ Drive/foo.txt"
      ],
      "execution_count": null,
      "outputs": [
        {
          "output_type": "stream",
          "name": "stdout",
          "text": [
            "Hello Google Drive!"
          ]
        }
      ]
    },
    {
      "cell_type": "code",
      "metadata": {
        "id": "zDiEkPqesoMG"
      },
      "source": [
        ""
      ],
      "execution_count": null,
      "outputs": []
    }
  ]
}