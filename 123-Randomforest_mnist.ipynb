{
  "nbformat": 4,
  "nbformat_minor": 0,
  "metadata": {
    "colab": {
      "name": "123-Randomforest_mnist.ipynb",
      "provenance": [],
      "collapsed_sections": [],
      "include_colab_link": true
    },
    "kernelspec": {
      "display_name": "Python 3",
      "language": "python",
      "name": "python3"
    },
    "language_info": {
      "codemirror_mode": {
        "name": "ipython",
        "version": 3
      },
      "file_extension": ".py",
      "mimetype": "text/x-python",
      "name": "python",
      "nbconvert_exporter": "python",
      "pygments_lexer": "ipython3",
      "version": "3.6.10"
    }
  },
  "cells": [
    {
      "cell_type": "markdown",
      "metadata": {
        "id": "view-in-github",
        "colab_type": "text"
      },
      "source": [
        "<a href=\"https://colab.research.google.com/github/JuhyupKim/HY_DIC/blob/main/123-Randomforest_mnist.ipynb\" target=\"_parent\"><img src=\"https://colab.research.google.com/assets/colab-badge.svg\" alt=\"Open In Colab\"/></a>"
      ]
    },
    {
      "cell_type": "markdown",
      "metadata": {
        "id": "pB7YT7wK0CTL"
      },
      "source": [
        "# Classification"
      ]
    },
    {
      "cell_type": "markdown",
      "metadata": {
        "id": "E8pSBSEa0CTV"
      },
      "source": [
        "## Data import"
      ]
    },
    {
      "cell_type": "code",
      "metadata": {
        "id": "OJw1T15L0CTW"
      },
      "source": [
        "import pandas as pd\n",
        "import os\n",
        "import numpy as np"
      ],
      "execution_count": null,
      "outputs": []
    },
    {
      "cell_type": "code",
      "metadata": {
        "id": "MtqQRSTs0CTW"
      },
      "source": [
        "traindata_url = 'https://bitbucket.org/hyuk125/lg_dic/raw/889649d1bc273bf53967cb621a370205715b803b/dataset_day1/mnist_train.csv'\n",
        "testdata_url = 'https://bitbucket.org/hyuk125/lg_dic/raw/889649d1bc273bf53967cb621a370205715b803b/dataset_day1/mnist_test.csv'\n",
        "train_data = pd.read_csv(traindata_url)\n",
        "test_data = pd.read_csv(testdata_url)"
      ],
      "execution_count": null,
      "outputs": []
    },
    {
      "cell_type": "code",
      "metadata": {
        "id": "hkmUveaL0CTX"
      },
      "source": [
        "X_train = train_data.values[:, 1:] \n",
        "y_train = train_data.values[:, 0]\n",
        "X_test = test_data.values[:, 1:]\n",
        "y_test = test_data.values[:, 0]"
      ],
      "execution_count": null,
      "outputs": []
    },
    {
      "cell_type": "code",
      "metadata": {
        "id": "gucqBUc-0CTX"
      },
      "source": [
        "X = np.r_[X_train, X_test]\n",
        "y = np.r_[y_train, y_test]"
      ],
      "execution_count": null,
      "outputs": []
    },
    {
      "cell_type": "markdown",
      "metadata": {
        "id": "GAhHc1I_0CTY"
      },
      "source": [
        "## Classification 모델"
      ]
    },
    {
      "cell_type": "markdown",
      "metadata": {
        "id": "Ek4XcYaK0CTY"
      },
      "source": [
        "### Data 처리\n",
        "#### Training / test 분할"
      ]
    },
    {
      "cell_type": "code",
      "metadata": {
        "id": "V1l9gk0d0CTY"
      },
      "source": [
        "from sklearn.model_selection import train_test_split\n",
        "X_train, X_test, y_train, y_test = train_test_split(X, y)"
      ],
      "execution_count": null,
      "outputs": []
    },
    {
      "cell_type": "markdown",
      "metadata": {
        "id": "wHiTXEEL0CTZ"
      },
      "source": [
        "### Randomforest classification 모델 학습"
      ]
    },
    {
      "cell_type": "code",
      "metadata": {
        "id": "L50N8qQs0CTZ"
      },
      "source": [
        "from sklearn.ensemble import RandomForestClassifier"
      ],
      "execution_count": null,
      "outputs": []
    },
    {
      "cell_type": "code",
      "metadata": {
        "colab": {
          "base_uri": "https://localhost:8080/"
        },
        "id": "CmQsCJwT0CTZ",
        "outputId": "2c1c13fb-3587-4b43-b63e-c2b25f4b5f55"
      },
      "source": [
        "model = RandomForestClassifier(n_estimators=50, max_leaf_nodes=16, n_jobs=-1) \n",
        "model.fit(X_train, y_train)"
      ],
      "execution_count": null,
      "outputs": [
        {
          "output_type": "execute_result",
          "data": {
            "text/plain": [
              "RandomForestClassifier(bootstrap=True, ccp_alpha=0.0, class_weight=None,\n",
              "                       criterion='gini', max_depth=None, max_features='auto',\n",
              "                       max_leaf_nodes=16, max_samples=None,\n",
              "                       min_impurity_decrease=0.0, min_impurity_split=None,\n",
              "                       min_samples_leaf=1, min_samples_split=2,\n",
              "                       min_weight_fraction_leaf=0.0, n_estimators=50, n_jobs=-1,\n",
              "                       oob_score=False, random_state=None, verbose=0,\n",
              "                       warm_start=False)"
            ]
          },
          "metadata": {},
          "execution_count": 7
        }
      ]
    },
    {
      "cell_type": "markdown",
      "metadata": {
        "id": "qpli5RnY0CTa"
      },
      "source": [
        "## Model Test"
      ]
    },
    {
      "cell_type": "markdown",
      "metadata": {
        "id": "GMT9rdc70CTb"
      },
      "source": [
        "## 정확도 판단"
      ]
    },
    {
      "cell_type": "markdown",
      "metadata": {
        "id": "oDHyAKAN0CTb"
      },
      "source": [
        "### Confution matrix"
      ]
    },
    {
      "cell_type": "code",
      "metadata": {
        "id": "Q_zKUppS0CTb"
      },
      "source": [
        "from sklearn.metrics import confusion_matrix"
      ],
      "execution_count": null,
      "outputs": []
    },
    {
      "cell_type": "code",
      "metadata": {
        "id": "7NNhU2bz0CTc"
      },
      "source": [
        "predict = model.predict(X_test)"
      ],
      "execution_count": null,
      "outputs": []
    },
    {
      "cell_type": "code",
      "metadata": {
        "colab": {
          "base_uri": "https://localhost:8080/"
        },
        "id": "y-zWTYuz0CTc",
        "outputId": "88768ad4-4c3a-43db-ab15-a21e4314e16f"
      },
      "source": [
        "matrix = confusion_matrix(y_test, predict)\n",
        "matrix"
      ],
      "execution_count": null,
      "outputs": [
        {
          "output_type": "execute_result",
          "data": {
            "text/plain": [
              "array([[1691,    0,    3,    5,    0,    3,   15,    6,   26,    1],\n",
              "       [   1, 1918,    9,   12,    0,    3,    3,   10,    7,    1],\n",
              "       [  41,   75, 1401,   36,   18,    4,   65,   55,   45,   17],\n",
              "       [  42,   52,   44, 1415,   11,   18,    6,   52,   48,   84],\n",
              "       [  11,    7,   16,    4, 1395,    4,   65,   33,   21,  195],\n",
              "       [  88,   68,    7,  446,   41,  613,   48,   49,   48,  141],\n",
              "       [  66,   35,   27,   15,   27,   10, 1470,   13,   18,    1],\n",
              "       [  14,   42,   24,    3,   29,    0,    1, 1652,   16,   95],\n",
              "       [  14,  152,   36,  134,   28,    4,   26,   11, 1212,   84],\n",
              "       [  18,   22,   16,   25,   61,    1,    6,  142,   27, 1380]])"
            ]
          },
          "metadata": {},
          "execution_count": 10
        }
      ]
    },
    {
      "cell_type": "markdown",
      "metadata": {
        "id": "H3rWW9dT0CTd"
      },
      "source": [
        "### Precision, recall"
      ]
    },
    {
      "cell_type": "code",
      "metadata": {
        "id": "61oKCJLW0CTe"
      },
      "source": [
        "from sklearn.metrics import precision_score, recall_score"
      ],
      "execution_count": null,
      "outputs": []
    },
    {
      "cell_type": "code",
      "metadata": {
        "colab": {
          "base_uri": "https://localhost:8080/"
        },
        "id": "EutUnYmL0CTe",
        "outputId": "a01b4092-940f-4382-cafd-fcf2125940ca"
      },
      "source": [
        "print(precision_score(y_test, predict, average=None))\n",
        "print('average: ', precision_score(y_test, predict, average='weighted'))"
      ],
      "execution_count": null,
      "outputs": [
        {
          "output_type": "stream",
          "name": "stdout",
          "text": [
            "[0.85146022 0.80894137 0.88502843 0.67541766 0.86645963 0.92878788\n",
            " 0.86217009 0.816609   0.82561308 0.69034517]\n",
            "average:  0.8197266878585333\n"
          ]
        }
      ]
    },
    {
      "cell_type": "code",
      "metadata": {
        "colab": {
          "base_uri": "https://localhost:8080/"
        },
        "id": "zlUB4icp0CTf",
        "outputId": "cf187376-c631-4f13-fdb2-fd715c4bd7e1"
      },
      "source": [
        "print(recall_score(y_test, predict, average=None))\n",
        "print('average: ', recall_score(y_test, predict, average='weighted'))"
      ],
      "execution_count": null,
      "outputs": [
        {
          "output_type": "stream",
          "name": "stdout",
          "text": [
            "[0.96628571 0.97657841 0.7973819  0.79853273 0.79668761 0.39573919\n",
            " 0.87395957 0.88059701 0.71252205 0.81272085]\n",
            "average:  0.8084\n"
          ]
        }
      ]
    },
    {
      "cell_type": "code",
      "metadata": {
        "id": "B1xDCQI6cyI_"
      },
      "source": [
        ""
      ],
      "execution_count": null,
      "outputs": []
    }
  ]
}