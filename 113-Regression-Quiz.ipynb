{
  "nbformat": 4,
  "nbformat_minor": 0,
  "metadata": {
    "colab": {
      "name": "113-Regression-Quiz.ipynb",
      "provenance": [],
      "collapsed_sections": [],
      "include_colab_link": true
    },
    "kernelspec": {
      "display_name": "Python 3",
      "language": "python",
      "name": "python3"
    },
    "language_info": {
      "codemirror_mode": {
        "name": "ipython",
        "version": 3
      },
      "file_extension": ".py",
      "mimetype": "text/x-python",
      "name": "python",
      "nbconvert_exporter": "python",
      "pygments_lexer": "ipython3",
      "version": "3.6.10"
    }
  },
  "cells": [
    {
      "cell_type": "markdown",
      "metadata": {
        "id": "view-in-github",
        "colab_type": "text"
      },
      "source": [
        "<a href=\"https://colab.research.google.com/github/JuhyupKim/HY_DIC/blob/main/113-Regression-Quiz.ipynb\" target=\"_parent\"><img src=\"https://colab.research.google.com/assets/colab-badge.svg\" alt=\"Open In Colab\"/></a>"
      ]
    },
    {
      "cell_type": "markdown",
      "metadata": {
        "id": "TcUrP3Oox7En"
      },
      "source": [
        "# Regression"
      ]
    },
    {
      "cell_type": "markdown",
      "metadata": {
        "id": "OYNsDhHYx7Ex"
      },
      "source": [
        "## Data import"
      ]
    },
    {
      "cell_type": "code",
      "metadata": {
        "id": "q1LLr9i3x7Ey"
      },
      "source": [
        "import pandas as pd\n",
        "import os\n",
        "import numpy as np\n",
        "import matplotlib.pyplot as plt\n",
        "import torch\n",
        "import torch.optim as optim\n",
        "from torch import nn as nn\n",
        "from torch.nn import functional as F"
      ],
      "execution_count": null,
      "outputs": []
    },
    {
      "cell_type": "code",
      "metadata": {
        "id": "n2_j8-Wbx7Ez"
      },
      "source": [
        "dataset_url = 'https://bitbucket.org/hyuk125/lg_dic/raw/889649d1bc273bf53967cb621a370205715b803b/dataset_day1/insurance.csv'\n",
        "data = pd.read_csv(dataset_url)"
      ],
      "execution_count": null,
      "outputs": []
    },
    {
      "cell_type": "code",
      "metadata": {
        "id": "mM0uOUsmx7E0"
      },
      "source": [
        "data.head()"
      ],
      "execution_count": null,
      "outputs": []
    },
    {
      "cell_type": "markdown",
      "metadata": {
        "id": "nh9te_iMx7E2"
      },
      "source": [
        "## 데이터 label encoding"
      ]
    },
    {
      "cell_type": "code",
      "metadata": {
        "id": "jU60nJ2yx7E2"
      },
      "source": [
        "from sklearn.preprocessing import LabelEncoder\n",
        "le = LabelEncoder()\n",
        "#sex\n",
        "le.fit(data['sex']) \n",
        "data['sex'] = le.transform(data['sex'])\n",
        "# smoker or not\n",
        "le.fit(data['smoker']) \n",
        "data['smoker'] = le.transform(data['smoker'])\n",
        "#region\n",
        "le.fit(data['region']) \n",
        "data['region'] = le.transform(data['region'])"
      ],
      "execution_count": null,
      "outputs": []
    },
    {
      "cell_type": "code",
      "metadata": {
        "id": "S5Wo72RNx7E3"
      },
      "source": [
        "data.head(3)"
      ],
      "execution_count": null,
      "outputs": []
    },
    {
      "cell_type": "markdown",
      "metadata": {
        "id": "MvizB_Y-x7E3"
      },
      "source": [
        "## Data setup"
      ]
    },
    {
      "cell_type": "code",
      "metadata": {
        "id": "ioCooplAx7E4"
      },
      "source": [
        "smoke_data = data[data['smoker'] == 1]"
      ],
      "execution_count": null,
      "outputs": []
    },
    {
      "cell_type": "code",
      "metadata": {
        "id": "bPui0qREx7E4"
      },
      "source": [
        "X = torch.from_numpy(smoke_data['bmi'].values)\n",
        "y = torch.from_numpy(smoke_data['charges'].values)"
      ],
      "execution_count": null,
      "outputs": []
    },
    {
      "cell_type": "code",
      "metadata": {
        "id": "bdrE8B8ax7E5"
      },
      "source": [
        "X = X.reshape(-1, 1).float()\n",
        "y = y.reshape(-1, 1).float()"
      ],
      "execution_count": null,
      "outputs": []
    },
    {
      "cell_type": "code",
      "metadata": {
        "id": "v_VMx3fnx7E5"
      },
      "source": [
        "plt.scatter(X, y, s=10)"
      ],
      "execution_count": null,
      "outputs": []
    },
    {
      "cell_type": "code",
      "metadata": {
        "id": "9VYpZw8dx7E6"
      },
      "source": [
        "from sklearn.model_selection import train_test_split\n",
        "X_train, X_test, y_train, y_test = train_test_split(X, y, test_size=0.2)"
      ],
      "execution_count": null,
      "outputs": []
    },
    {
      "cell_type": "markdown",
      "metadata": {
        "id": "mUifJhNzx7E6"
      },
      "source": [
        "## 과제1. 위 데이터를 nn.Module을 활용하여 linear regression하는 코드를 작성하시오\n",
        "#### 단, epoch=10000, learning rate=0.0001로 하시오"
      ]
    },
    {
      "cell_type": "code",
      "metadata": {
        "id": "K35WaZ-BQTsp"
      },
      "source": [
        "# 모델\n",
        "\n",
        "\n",
        "\n",
        "\n",
        "\n",
        "\n",
        "\n",
        "\n",
        "\n",
        "\n",
        "\n",
        "\n",
        "\n"
      ],
      "execution_count": null,
      "outputs": []
    },
    {
      "cell_type": "code",
      "metadata": {
        "id": "7Gm2ALBNx7E7"
      },
      "source": [
        "hx = (model(X_train)).detach().numpy()"
      ],
      "execution_count": null,
      "outputs": []
    },
    {
      "cell_type": "code",
      "metadata": {
        "id": "rcWdQXoBx7E8"
      },
      "source": [
        "plt.figure(figsize=[6, 6])\n",
        "plt.scatter(X_train, y_train, s=10)\n",
        "plt.scatter(X_train, hx, s=20, c='r')"
      ],
      "execution_count": null,
      "outputs": []
    },
    {
      "cell_type": "code",
      "metadata": {
        "id": "g1iUUJJ-x7E9"
      },
      "source": [
        ""
      ],
      "execution_count": null,
      "outputs": []
    }
  ]
}