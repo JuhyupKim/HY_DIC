{
  "nbformat": 4,
  "nbformat_minor": 0,
  "metadata": {
    "colab": {
      "name": "등대공장_영문번역.ipynb",
      "provenance": [],
      "collapsed_sections": [],
      "authorship_tag": "ABX9TyPXAlG04/M4I2rsmOoEIqWI",
      "include_colab_link": true
    },
    "kernelspec": {
      "name": "python3",
      "display_name": "Python 3"
    },
    "language_info": {
      "name": "python"
    }
  },
  "cells": [
    {
      "cell_type": "markdown",
      "metadata": {
        "id": "view-in-github",
        "colab_type": "text"
      },
      "source": [
        "<a href=\"https://colab.research.google.com/github/JuhyupKim/HY_DIC/blob/main/%EB%93%B1%EB%8C%80%EA%B3%B5%EC%9E%A5_%EC%98%81%EB%AC%B8%EB%B2%88%EC%97%AD.ipynb\" target=\"_parent\"><img src=\"https://colab.research.google.com/assets/colab-badge.svg\" alt=\"Open In Colab\"/></a>"
      ]
    },
    {
      "cell_type": "markdown",
      "metadata": {
        "id": "1l7VfnptZ4A9"
      },
      "source": [
        "창원 선진화 공장 Transformation Office 운영 방안의 마지막 주제는 \"Empowerment 및 변화 관리\"입니다.\n",
        "\n",
        "H&A 사업본부는 “H&A 디지털 경영”이라는 DX 실행 프레임워크를 기반으로 (H&A본부 DX팀 주관으로 매월 개최되고 있는) “H&A DX 협의회”라는 정기 회의체를 통해 각 사업부 및 부문에서 발빠르게 디지털 트랜스포메이션을 수행하고 있습니다. \"H&A DX 협의회\"에서는 본부장 및 주요 경영진이 모두 참여하며 본부 DX 추진 방향을 컨센서스 하고, 부문별 DX 추진과제들을 수립 및 관리하고 있습니다. 주요 아젠다로는 \"본부 DX 추진 방향\", \"각 부분별 DX 사례\", \" 외부 우수사례 벤치마킹\", \"주요 이슈사항 집중 점검\"등이 있습니다.\n",
        "\n",
        "생산담당 Operation 회의는 Global 생산 담당 주관으로 제품별 생산담당 및 유관부서가 참여하는 회의체입니다. 이 회의체를 통해 해외 법인 별 KPI 진척도 확인 등 공통 이슈 논의, 생산 주요 과제 추진 현황에 공유, 생산 주요 Task 진척현황 공유 및 LCA, DfM, 자동화, Fool/Proof 등 우수사례 공유 및 전파를 진행하고 있습니다.\n",
        "\n",
        "Digital Agent는 본부의 \"디지털 경영\"을 안착시키고 일하는 방식 변화의 문화로써 혁신을 위한 Change Agent입니다. 소속 조직 내 DX 문화를 리딩하며 단기/중장기 DX 과제 도출 및 실행지원을 하며, 전사 및 사내 전문가와의 네트워크를 구성하여 좋은 문제해결 사례 벤치마킹 및 소속 조직 내 빠른 전파를 담당하는 역할을 맡고 있습니다.\n",
        "\n",
        "마지막으로 소개 해 드릴 내용은 구성원들과의 \"소통\"을 통한 디지털경영 체계 구축을 위한 Digital H&A 커뮤니티 운영입니다. H&A 본부 구성원을 대상으로 본부 DX 전략/방향에 대한 소개, DX 과제 BP 사례 공유, 각 조직 별 1팀 1과제 수행, DX 관련 추천 교육자료, 본부 DX 경진대회 출품/선정, 카드뉴스, 뉴스레터, DX 관련 수시 이벤트 등의 컨텐츠를 포함하고 있습니다.\n",
        "\n",
        "지금까지 말씀드렸던 3가지 운영방안 즉, \"BP 사례 해외 전파 및 적용\", \"Bankable plan 수립 및 KPI 관리\", \"Empowerment 및 변화 관리\"를 통해 창원 선진화 공장의 Transformation Office는 Global 확대 전개 및 도전적인 생산 목표 달성에 큰 기여를 하고 있습니다."
      ]
    },
    {
      "cell_type": "markdown",
      "metadata": {
        "id": "2WSlVUmMaFN0"
      },
      "source": [
        "The last topic is \"Empowerment and Change Management.\"\n",
        "\n",
        "The H&A performs Digital Transformation in each business and division quickly based on DX implementing frame work called \"H&A Digital Management\" through regular meeting, DX Committee which is held monthly by H&A headquarters DX team. H&A President and key executives have to attend the meeting, reach consensus on DX promoting direction, select DX tasks and manage them. Major agenda of this includes \"Promotion Direction of H&A DX\", \"DX Cases for Each Part,\" \"Benchmarking of External Best Practices,\" and \"Intensive Inspection of Major Issues.\"\n",
        "\n",
        "The production operation meeting is organized by the Global production department and the production department for each product. Through this meeting, we discuss common issues such as checking the progress of KPI by overseas corporation, share the status of major production tasks, share the progress of major production tasks, and share and spread best practices such as LCA, DfM, automation, and F/Proof.\n",
        "\n",
        "Digital Agent is a change agent for innovation as a culture of change in the way the headquarters \"digital management\" is settled and worked. It leads the DX culture within its organization, derives and supports short- and medium-term DX tasks, and forms a network with company and in-house experts to benchmark good problem-solving cases and spread them quickly within its organization.\n",
        "\n",
        "The last thing I want to introduce is the operation of the Digital H&A community to establish a digital management system through \"communication\" with members. It includes contents such as introduction of H&A headquarters' strategy/direction, DX task BP case sharing, DX task performance, DX-related recommended training materials, DX competition entry/selection, card news, and DX-related occasional events."
      ]
    },
    {
      "cell_type": "markdown",
      "metadata": {
        "id": "UB3rnGJPaNHU"
      },
      "source": [
        "창원 선진화 공장에서 Agile Digital Studio 방식을 적용하여 운영중인 조직이 있어 소개 해 드리고자 합니다.\n",
        "창원 선진화 Task가 그 대상입니다.\n",
        "\n",
        "선진화 공장 안정화를 달성하기 위한 Task로 구축되었으며 제품, 건설, R&D, SCM, QE, IT, 생산기술원 등 서로 다른 분야의 전문가들이 한 곳에 모여 일하고 있습니다.\n",
        "구체적으로 제품 구조 개선 활동, 라인 무인화/자동화 활동, 건설/생산시스템 활동, 물류 최적화 활동, 정보화/지능화 활동, 품질/SCM 개선 활동 등을 수행하고 있습니다.\n",
        "\n",
        "Task의 운영 방식은 다음과 같습니다.\n",
        "먼저 데이터 기반 시스템으로 공장 라인의 문제 발생 여부를 모니터링 합니다. \n",
        "그리고 시스템에서 이상치가 감지되면 미리 등록된 담당자에게 알림이 전송되고, 이슈 담당자는 시스템 로그 기반으로 문제를 분석하고 해결합니다. 마지막으로 조치가 완료된 문제들은 시스템에 완료 처리가 되며, 모든 문제들은 관제 시스템을 통해 확인이 가능합니다.\n",
        "\n",
        "Task의 이슈 해결 사례로 DfM을 통한 개선을 소개 해 드리고자 합니다.\n",
        "선진화 공장 라인의 특정 장비에서 기준에 비해 높은 산포도가 리포트 됩니다.\n",
        "R&D 설계 담당자, 품질 담당자, 생산 담당자가 원인을 분석하였고, 이슈의 원인은 주로 제품 설계와 자동화 설비가 매칭되지 않기 때문이었습니다.\n",
        "이렇게 문제가 발생한 경우 Trial~Error 방식으로 제조에 맞게 redesin 하여 발빠르게 개선을 하였습니다.\n",
        "이러한 과정으로 해결된 문제로는 Next F Hinge Pin 구조 변경, Case Lamp 접착제 변경,  Guide Rail Hole 구조 변경 등이 있습니다.\n",
        "\n",
        "이상으로 Eanbler 항목 중 Transformation Office 및 Agile Studio 부분 발표를 마칩니다."
      ]
    },
    {
      "cell_type": "markdown",
      "metadata": {
        "id": "C4jtsk8LaOQ7"
      },
      "source": [
        "I would like to introduce you to an organization that is operating by applying the Agile Digital Studio method to the advanced factory in Changwon.\n",
        "Changwon Advanced Task is the target.\n",
        "\n",
        "It has been built as a task to achieve stabilization of advanced factories, and experts from different fields such as products, construction, R&D, SCM, QE, IT, and Production Technology Institute are working together. Specifically, we carry out product structure improvement activities, line unmanned/automation activities, construction/production system activities, logistics optimization activities, informatization/intelligence activities, and quality/SCM improvement activities.\n",
        "\n",
        "The operation method is a data-based system that monitors the occurrence of problems with the factory line. When an outlier is detected in the system, a notification is sent to a pre-registered person, and the issue person analyzes and solves the problem based on the system log. Problems that have been taken care of are completely processed by the system, and all problems can be identified through the control system.\n",
        "\n",
        "As an example of solving the issue, I would like to introduce improvement through DfM. A higher distribution than the standard is reported in certain equipment on the advanced factory line. R&D design managers, quality managers, and production managers analyzed the causes, and the cause of the issue was mainly because product design and automation facilities were not matched. In the event of such a problem, we quickly improved it by redesin the trial-error method to suit the manufacturing process. Problems solved by this process include changing the Next F Hinge Pin structure, changing the Case Lamp adhesive, and changing the Guide Rail Hole structure.\n",
        "\n",
        "This is the end of the presentation of the Transformation Office and Agile Studio part of the Eanbler items."
      ]
    }
  ]
}