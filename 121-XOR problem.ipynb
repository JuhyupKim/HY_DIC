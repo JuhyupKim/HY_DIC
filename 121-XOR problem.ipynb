{
  "nbformat": 4,
  "nbformat_minor": 0,
  "metadata": {
    "colab": {
      "name": "121-XOR problem.ipynb",
      "provenance": [],
      "collapsed_sections": [],
      "include_colab_link": true
    },
    "kernelspec": {
      "display_name": "Python 3",
      "language": "python",
      "name": "python3"
    },
    "language_info": {
      "codemirror_mode": {
        "name": "ipython",
        "version": 3
      },
      "file_extension": ".py",
      "mimetype": "text/x-python",
      "name": "python",
      "nbconvert_exporter": "python",
      "pygments_lexer": "ipython3",
      "version": "3.6.10"
    }
  },
  "cells": [
    {
      "cell_type": "markdown",
      "metadata": {
        "id": "view-in-github",
        "colab_type": "text"
      },
      "source": [
        "<a href=\"https://colab.research.google.com/github/JuhyupKim/HY_DIC/blob/main/121-XOR%20problem.ipynb\" target=\"_parent\"><img src=\"https://colab.research.google.com/assets/colab-badge.svg\" alt=\"Open In Colab\"/></a>"
      ]
    },
    {
      "cell_type": "markdown",
      "metadata": {
        "id": "DIE6VvxTz-1e"
      },
      "source": [
        "# XOR problem"
      ]
    },
    {
      "cell_type": "code",
      "metadata": {
        "id": "33wUzFE8z-1o"
      },
      "source": [
        "import torch\n",
        "import matplotlib.pyplot as plt\n",
        "import torch.nn as nn\n",
        "import torch.optim as optim"
      ],
      "execution_count": null,
      "outputs": []
    },
    {
      "cell_type": "markdown",
      "metadata": {
        "id": "iNPyvLXnz-1p"
      },
      "source": [
        "## Create XOR data"
      ]
    },
    {
      "cell_type": "code",
      "metadata": {
        "id": "MR1RTPSBz-1q"
      },
      "source": [
        "if torch.cuda.is_available():\n",
        "    device = 'cuda'\n",
        "else:\n",
        "    device = 'cpu'"
      ],
      "execution_count": null,
      "outputs": []
    },
    {
      "cell_type": "code",
      "metadata": {
        "id": "z-fCAfROz-1q"
      },
      "source": [
        "X = torch.FloatTensor([[0, 0], [0, 1], [1, 0], [1, 1]]).to(device)\n",
        "y = torch.FloatTensor([[0], [1], [1], [0]]).to(device)"
      ],
      "execution_count": null,
      "outputs": []
    },
    {
      "cell_type": "code",
      "metadata": {
        "id": "tq-wL5jhz-1q"
      },
      "source": [
        "for label in [0, 1]:\n",
        "    sub_d = X[(y==label)[:,0], :]\n",
        "    plt.plot(sub_d[:, 0], sub_d[:, 1], 'o')"
      ],
      "execution_count": null,
      "outputs": []
    },
    {
      "cell_type": "markdown",
      "metadata": {
        "id": "yL6IZwNxz-1s"
      },
      "source": [
        "## Create logistic regression model and training"
      ]
    },
    {
      "cell_type": "markdown",
      "metadata": {
        "id": "7-qdPajLEZ8i"
      },
      "source": [
        "tip) torch.nn.Sequential(*args) 을 활용하면 여러 layer를 linear하게 연결할 수 있습니다"
      ]
    },
    {
      "cell_type": "code",
      "metadata": {
        "id": "HFCtsMc_z-1s"
      },
      "source": [
        "class linear_model(nn.Module):\n",
        "    def __init__(self):\n",
        "        super().__init__()\n",
        "#         self.linear = nn.Linear(2, 1, bias=True)\n",
        "#         self.sigmod = torch.nn.Sigmod()\n",
        "        self.layer = nn.Sequential(\n",
        "                                nn.Linear(2, 1, bias=True), \n",
        "                                nn.Sigmoid())\n",
        "    \n",
        "    def forward(self, x):\n",
        "#         out = self.linear(x)\n",
        "#         out = self.sigmod(input_layer)\n",
        "        out = self.layer(x)\n",
        "        \n",
        "        return out"
      ],
      "execution_count": null,
      "outputs": []
    },
    {
      "cell_type": "code",
      "metadata": {
        "id": "XrKKl6vtz-1t"
      },
      "source": [
        "model = linear_model()"
      ],
      "execution_count": null,
      "outputs": []
    },
    {
      "cell_type": "code",
      "metadata": {
        "id": "okvFBrGiz-1t"
      },
      "source": [
        "epochs = 10000\n",
        "learning_rate = 1"
      ],
      "execution_count": null,
      "outputs": []
    },
    {
      "cell_type": "code",
      "metadata": {
        "id": "pQijX-5qz-1u"
      },
      "source": [
        "criterion = nn.BCELoss().to(device)\n",
        "optimizer = optim.SGD(model.parameters(), lr=learning_rate)\n",
        "\n",
        "for step in range(epochs+1):\n",
        "    optimizer.zero_grad()\n",
        "    hypothesis = model(X)\n",
        "    \n",
        "    cost = criterion(hypothesis, y)\n",
        "    cost.backward()\n",
        "    optimizer.step()\n",
        "    \n",
        "    if step % 1000 == 0:\n",
        "        print(step, cost.item())\n",
        "    "
      ],
      "execution_count": null,
      "outputs": []
    },
    {
      "cell_type": "markdown",
      "metadata": {
        "id": "MHEwHTHhz-1u"
      },
      "source": [
        "## 결과 확인"
      ]
    },
    {
      "cell_type": "code",
      "metadata": {
        "id": "qRfBtxKrz-1u"
      },
      "source": [
        "model(X)"
      ],
      "execution_count": null,
      "outputs": []
    },
    {
      "cell_type": "code",
      "metadata": {
        "id": "KI5ncY_Oz-1v"
      },
      "source": [
        "with torch.no_grad():\n",
        "    hypothesis = model(X)\n",
        "    predicted = (hypothesis > 0.5).float()\n",
        "    accuracy = (predicted == y).float().mean()\n",
        "    print('\\nHypothesis: ', hypothesis.detach().cpu().numpy(), '\\nCorrect: ', predicted.detach().cpu().numpy(), '\\nAccuracy: ', accuracy.item())"
      ],
      "execution_count": null,
      "outputs": []
    },
    {
      "cell_type": "markdown",
      "metadata": {
        "id": "6Z7NbFDLz-1v"
      },
      "source": [
        "## Create multilayer perceptron and training"
      ]
    },
    {
      "cell_type": "code",
      "metadata": {
        "id": "7dR0o0_Vz-1w"
      },
      "source": [
        "class multi_layer_model(nn.Module):\n",
        "    def __init__(self):\n",
        "        super().__init__()\n",
        "\n",
        "        self.layer = nn.Sequential(\n",
        "                                nn.Linear(2, 2, bias=True), \n",
        "                                nn.Sigmoid(),\n",
        "                                nn.Linear(2, 1, bias=True), \n",
        "                                nn.Sigmoid())\n",
        "    \n",
        "    def forward(self, x):\n",
        "        out = self.layer(x)\n",
        "        \n",
        "        return out"
      ],
      "execution_count": null,
      "outputs": []
    },
    {
      "cell_type": "code",
      "metadata": {
        "id": "SRDX_xY1z-1w"
      },
      "source": [
        "model = multi_layer_model()"
      ],
      "execution_count": null,
      "outputs": []
    },
    {
      "cell_type": "code",
      "metadata": {
        "id": "Sx2yaKhhz-1x"
      },
      "source": [
        "criterion = nn.BCELoss().to(device)\n",
        "optimizer = optim.SGD(model.parameters(), lr=learning_rate)\n",
        "\n",
        "for step in range(epochs+1):\n",
        "    optimizer.zero_grad()\n",
        "    hypothesis = model(X)\n",
        "    \n",
        "    cost = criterion(hypothesis, y)\n",
        "    cost.backward()\n",
        "    optimizer.step()\n",
        "    \n",
        "    if step % 1000 == 0:\n",
        "        print(step, cost.item())\n",
        "    "
      ],
      "execution_count": null,
      "outputs": []
    },
    {
      "cell_type": "code",
      "metadata": {
        "id": "XJ1Gv08Pz-1y"
      },
      "source": [
        "model(X)"
      ],
      "execution_count": null,
      "outputs": []
    },
    {
      "cell_type": "code",
      "metadata": {
        "id": "yo2b0CQEz-1z"
      },
      "source": [
        "with torch.no_grad():\n",
        "    hypothesis = model(X)\n",
        "    predicted = (hypothesis > 0.5).float()\n",
        "    accuracy = (predicted == y).float().mean()\n",
        "    print('\\nHypothesis: ', hypothesis.detach().cpu().numpy(), '\\nCorrect: ', predicted.detach().cpu().numpy(), '\\nAccuracy: ', accuracy.item())"
      ],
      "execution_count": null,
      "outputs": []
    },
    {
      "cell_type": "code",
      "metadata": {
        "id": "iDEL9-yJz-1z"
      },
      "source": [
        ""
      ],
      "execution_count": null,
      "outputs": []
    }
  ]
}