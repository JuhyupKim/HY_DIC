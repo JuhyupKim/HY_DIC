{
  "nbformat": 4,
  "nbformat_minor": 0,
  "metadata": {
    "accelerator": "GPU",
    "colab": {
      "name": "125-Deeplearning_InitialNdropout.ipynb",
      "provenance": [],
      "collapsed_sections": [],
      "include_colab_link": true
    },
    "kernelspec": {
      "display_name": "Python 3",
      "language": "python",
      "name": "python3"
    },
    "language_info": {
      "codemirror_mode": {
        "name": "ipython",
        "version": 3
      },
      "file_extension": ".py",
      "mimetype": "text/x-python",
      "name": "python",
      "nbconvert_exporter": "python",
      "pygments_lexer": "ipython3",
      "version": "3.6.10"
    }
  },
  "cells": [
    {
      "cell_type": "markdown",
      "metadata": {
        "id": "view-in-github",
        "colab_type": "text"
      },
      "source": [
        "<a href=\"https://colab.research.google.com/github/JuhyupKim/HY_DIC/blob/main/125-Deeplearning_InitialNdropout.ipynb\" target=\"_parent\"><img src=\"https://colab.research.google.com/assets/colab-badge.svg\" alt=\"Open In Colab\"/></a>"
      ]
    },
    {
      "cell_type": "markdown",
      "metadata": {
        "id": "wNRDuH450GKX"
      },
      "source": [
        "# Deep Learning"
      ]
    },
    {
      "cell_type": "code",
      "metadata": {
        "id": "pdqkBspd0GKi"
      },
      "source": [
        "import pandas as pd\n",
        "import os\n",
        "import numpy as np\n",
        "import matplotlib\n",
        "import matplotlib.pyplot as plt\n",
        "import torch\n",
        "import torch.nn as nn\n",
        "import torch.optim as optim"
      ],
      "execution_count": null,
      "outputs": []
    },
    {
      "cell_type": "code",
      "metadata": {
        "id": "ki4fS6JK0GKj"
      },
      "source": [
        "device = 'cuda' if torch.cuda.is_available() else 'cpu'"
      ],
      "execution_count": null,
      "outputs": []
    },
    {
      "cell_type": "markdown",
      "metadata": {
        "id": "VHClPXy20GKj"
      },
      "source": [
        "## Data import"
      ]
    },
    {
      "cell_type": "code",
      "metadata": {
        "id": "vcOcxa290GKj"
      },
      "source": [
        "traindata_url = 'https://bitbucket.org/hyuk125/lg_dic/raw/889649d1bc273bf53967cb621a370205715b803b/dataset_day1/mnist_train.csv'\n",
        "testdata_url = 'https://bitbucket.org/hyuk125/lg_dic/raw/889649d1bc273bf53967cb621a370205715b803b/dataset_day1/mnist_test.csv'\n",
        "train_data = pd.read_csv(traindata_url)\n",
        "test_data = pd.read_csv(testdata_url)"
      ],
      "execution_count": null,
      "outputs": []
    },
    {
      "cell_type": "code",
      "metadata": {
        "id": "5EzLhrPc0GKk"
      },
      "source": [
        "from sklearn.preprocessing import LabelEncoder\n",
        "\n",
        "le = LabelEncoder()\n",
        "\n",
        "le.fit(train_data.label == 5)\n",
        "\n",
        "train_data.label = le.transform(train_data.label == 5)\n",
        "test_data.label = le.transform(test_data.label == 5)"
      ],
      "execution_count": null,
      "outputs": []
    },
    {
      "cell_type": "markdown",
      "metadata": {
        "id": "0LfwXWDw0GKk"
      },
      "source": [
        "## Deep learning - classification 모델"
      ]
    },
    {
      "cell_type": "markdown",
      "metadata": {
        "id": "vspkPHc-0GKl"
      },
      "source": [
        "### Pytorch 모델에 입력하기 위한 데이터 변환"
      ]
    },
    {
      "cell_type": "code",
      "metadata": {
        "id": "uJ4iblzw0GKl"
      },
      "source": [
        "train_data = torch.from_numpy(train_data.values).float()\n",
        "test_data = torch.from_numpy(test_data.values).float()"
      ],
      "execution_count": null,
      "outputs": []
    },
    {
      "cell_type": "code",
      "metadata": {
        "id": "SpknEo4Z0GKl"
      },
      "source": [
        "BATCH_SIZE = 15\n",
        "epochs = 2\n",
        "learning_rate = 0.001\n",
        "drop_prob = 0.5"
      ],
      "execution_count": null,
      "outputs": []
    },
    {
      "cell_type": "code",
      "metadata": {
        "id": "ksM_Y-MR0GKm"
      },
      "source": [
        "\n",
        "data_loader = torch.utils.data.DataLoader(train_data,\n",
        "                            batch_size=BATCH_SIZE, \n",
        "                            shuffle=True, \n",
        "                            num_workers=0)"
      ],
      "execution_count": null,
      "outputs": []
    },
    {
      "cell_type": "markdown",
      "metadata": {
        "id": "w3jA2Ri40GKm"
      },
      "source": [
        "### Deep learning 모델 정의 with Xavier initializer & dropout"
      ]
    },
    {
      "cell_type": "code",
      "metadata": {
        "id": "M2bJq2kl0GKm"
      },
      "source": [
        "class DNNModel(nn.Module):\n",
        "    def __init__(self):\n",
        "        super(DNNModel, self).__init__()\n",
        "        self.layer1 = nn.Linear(28 *28, 300)\n",
        "        self.layer2 = nn.Linear(300, 300)\n",
        "        self.layer3 = nn.Linear(300, 2)\n",
        "        self.relu = nn.ReLU()\n",
        "        \n",
        "        self.dropout = nn.Dropout(p=drop_prob)\n",
        "        \n",
        "        nn.init.xavier_uniform_(self.layer1.weight)\n",
        "        nn.init.xavier_uniform_(self.layer2.weight)\n",
        "        nn.init.xavier_uniform_(self.layer3.weight)\n",
        "    \n",
        "        \n",
        "    def forward(self, x):\n",
        "        \n",
        "        layers = nn.Sequential(self.layer1, self.relu, self.dropout,\n",
        "                           self.layer2, self.relu, self.dropout,\n",
        "                           self.layer3).to(device)\n",
        "        out = layers(x)\n",
        "        return out\n",
        "    \n",
        "model = DNNModel()\n",
        "model"
      ],
      "execution_count": null,
      "outputs": []
    },
    {
      "cell_type": "markdown",
      "metadata": {
        "id": "cQYOew5Y0GKo"
      },
      "source": [
        "### 학습 시작"
      ]
    },
    {
      "cell_type": "code",
      "metadata": {
        "id": "eYsXFm380GKp"
      },
      "source": [
        "criterion = nn.CrossEntropyLoss().to(device)\n",
        "optimizer = optim.Adam(model.parameters(), lr = learning_rate)"
      ],
      "execution_count": null,
      "outputs": []
    },
    {
      "cell_type": "code",
      "metadata": {
        "id": "Gj-tbge_0GKp"
      },
      "source": [
        "for epoch in range(epochs):\n",
        "    running_cost = 0.0\n",
        "\n",
        "    for step, (batch_data) in enumerate(data_loader):\n",
        "        batch_x = batch_data[:, 1:].view(-1, 28*28).to(device)\n",
        "        batch_y = batch_data[:, 0].to(device).long()\n",
        "        \n",
        "        optimizer.zero_grad()\n",
        "        \n",
        "        outputs = model(batch_x)\n",
        "        cost = criterion(outputs, batch_y)\n",
        "\n",
        "        cost.backward()\n",
        "        optimizer.step()\n",
        "        \n",
        "        running_cost += cost.item()\n",
        "        if step % 200 == 199:\n",
        "            print('[%d, %5d] cost: %.3f' % (epoch + 1, step + 1, running_cost / 200))\n",
        "            running_cost = 0.0\n",
        "            "
      ],
      "execution_count": null,
      "outputs": []
    },
    {
      "cell_type": "markdown",
      "metadata": {
        "id": "AUHNrHGo0GKq"
      },
      "source": [
        "## 정확도 판단"
      ]
    },
    {
      "cell_type": "markdown",
      "metadata": {
        "id": "_oBZ_BWj0GKr"
      },
      "source": [
        "### Confusion matrix"
      ]
    },
    {
      "cell_type": "code",
      "metadata": {
        "id": "ZVqrOgIU0GKs"
      },
      "source": [
        "from sklearn.metrics import confusion_matrix\n",
        "from sklearn.metrics import precision_score, recall_score"
      ],
      "execution_count": null,
      "outputs": []
    },
    {
      "cell_type": "code",
      "metadata": {
        "id": "xVMYAJAg0GKs"
      },
      "source": [
        "with torch.no_grad():\n",
        "    X_test = test_data[:, 1:].view(-1, 28 * 28).float().to(device)\n",
        "    y_test = test_data[:, 0].float()\n",
        "    \n",
        "    prediction = model(X_test).cpu()\n",
        "    print(confusion_matrix(torch.argmax(prediction, 1), y_test))\n",
        "    print(\"==Precision==\")\n",
        "    print(precision_score(torch.argmax(prediction, 1), y_test, average=None))\n",
        "    print(precision_score(torch.argmax(prediction, 1), y_test, average='weighted'))\n",
        "    print(\"Recall\")\n",
        "    print(recall_score(torch.argmax(prediction, 1), y_test, average=None))\n",
        "    print(recall_score(torch.argmax(prediction, 1), y_test, average='weighted'))"
      ],
      "execution_count": null,
      "outputs": []
    }
  ]
}