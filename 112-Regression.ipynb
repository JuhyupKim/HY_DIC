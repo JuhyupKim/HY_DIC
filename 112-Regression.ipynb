{
  "nbformat": 4,
  "nbformat_minor": 0,
  "metadata": {
    "colab": {
      "name": "112-Regression.ipynb",
      "provenance": [],
      "collapsed_sections": [],
      "include_colab_link": true
    },
    "kernelspec": {
      "display_name": "Python 3",
      "language": "python",
      "name": "python3"
    },
    "language_info": {
      "codemirror_mode": {
        "name": "ipython",
        "version": 3
      },
      "file_extension": ".py",
      "mimetype": "text/x-python",
      "name": "python",
      "nbconvert_exporter": "python",
      "pygments_lexer": "ipython3",
      "version": "3.6.10"
    }
  },
  "cells": [
    {
      "cell_type": "markdown",
      "metadata": {
        "id": "view-in-github",
        "colab_type": "text"
      },
      "source": [
        "<a href=\"https://colab.research.google.com/github/JuhyupKim/HY_DIC/blob/main/112-Regression.ipynb\" target=\"_parent\"><img src=\"https://colab.research.google.com/assets/colab-badge.svg\" alt=\"Open In Colab\"/></a>"
      ]
    },
    {
      "cell_type": "markdown",
      "metadata": {
        "id": "h8ZmaHOix2Hd"
      },
      "source": [
        "# Regression"
      ]
    },
    {
      "cell_type": "markdown",
      "metadata": {
        "id": "mhKLPgAix2Hf"
      },
      "source": [
        "## Data creation"
      ]
    },
    {
      "cell_type": "code",
      "metadata": {
        "id": "kj5K9BJUx2Hg"
      },
      "source": [
        "import pandas as pd\n",
        "import os\n",
        "import numpy as np\n",
        "import matplotlib.pyplot as plt\n",
        "import torch"
      ],
      "execution_count": null,
      "outputs": []
    },
    {
      "cell_type": "code",
      "metadata": {
        "id": "z_lICCYCx2Hg"
      },
      "source": [
        "m = 100\n",
        "X = 2 * torch.rand(m, 1)\n",
        "y = 4 + 3 * X + torch.randn(m, 1)"
      ],
      "execution_count": null,
      "outputs": []
    },
    {
      "cell_type": "code",
      "metadata": {
        "id": "8bSRsljLx2Hh"
      },
      "source": [
        "plt.scatter(X, y, s=10)"
      ],
      "execution_count": null,
      "outputs": []
    },
    {
      "cell_type": "code",
      "metadata": {
        "id": "poiaYNTCx2Hh"
      },
      "source": [
        "from sklearn.model_selection import train_test_split\n",
        "X_train, X_test, y_train, y_test = train_test_split(X, y, test_size=0.2)"
      ],
      "execution_count": null,
      "outputs": []
    },
    {
      "cell_type": "code",
      "metadata": {
        "id": "igJ5OT2Rx2Hi"
      },
      "source": [
        "plt.scatter(X_train, y_train, s=10)\n",
        "plt.scatter(X_test, y_test, s=10)\n",
        "plt.legend(['Training set', 'Test set'])"
      ],
      "execution_count": null,
      "outputs": []
    },
    {
      "cell_type": "markdown",
      "metadata": {
        "id": "gtSKEBIJx2Hi"
      },
      "source": [
        "## Regression model"
      ]
    },
    {
      "cell_type": "code",
      "metadata": {
        "id": "MWqlw7zDx2Hj"
      },
      "source": [
        "X_train_3 = X_train[:3]\n",
        "y_train_3 = y_train[:3]"
      ],
      "execution_count": null,
      "outputs": []
    },
    {
      "cell_type": "code",
      "metadata": {
        "id": "tas4delFx2Hj"
      },
      "source": [
        "X_train_3, y_train_3"
      ],
      "execution_count": null,
      "outputs": []
    },
    {
      "cell_type": "code",
      "metadata": {
        "id": "GtGZ_O_ax2Hk"
      },
      "source": [
        "plt.scatter(X_train_3, y_train_3)"
      ],
      "execution_count": null,
      "outputs": []
    },
    {
      "cell_type": "markdown",
      "metadata": {
        "id": "DZNs9Iuex2Hk"
      },
      "source": [
        "### Hypothesis  \n",
        "H(x) = Wx+b"
      ]
    },
    {
      "cell_type": "code",
      "metadata": {
        "id": "4e68pjHOx2Hl"
      },
      "source": [
        "W = torch.zeros(1, requires_grad=True)\n",
        "b = torch.zeros(1, requires_grad=True)\n",
        "hypothesis = X_train_3 * W + b"
      ],
      "execution_count": null,
      "outputs": []
    },
    {
      "cell_type": "code",
      "metadata": {
        "id": "dvfQU3yyx2Hl"
      },
      "source": [
        "hypothesis"
      ],
      "execution_count": null,
      "outputs": []
    },
    {
      "cell_type": "markdown",
      "metadata": {
        "id": "yGkhSL9yx2Hl"
      },
      "source": [
        "### Compute loss"
      ]
    },
    {
      "cell_type": "markdown",
      "metadata": {
        "id": "5YfFVsKhx2Hm"
      },
      "source": [
        "cost(W, b) = mean((H(x) - y)^2)"
      ]
    },
    {
      "cell_type": "code",
      "metadata": {
        "id": "cbXKgZXJx2Hm"
      },
      "source": [
        "cost = torch.mean((hypothesis - y_train_3) ** 2)"
      ],
      "execution_count": null,
      "outputs": []
    },
    {
      "cell_type": "code",
      "metadata": {
        "id": "zXuD-CWVx2Hm"
      },
      "source": [
        "cost"
      ],
      "execution_count": null,
      "outputs": []
    },
    {
      "cell_type": "markdown",
      "metadata": {
        "id": "PivdaprQx2Hn"
      },
      "source": [
        "### Gradient descent"
      ]
    },
    {
      "cell_type": "markdown",
      "metadata": {
        "id": "BiACVDeFx2Ho"
      },
      "source": [
        "#### 미분으로 계산"
      ]
    },
    {
      "cell_type": "code",
      "metadata": {
        "id": "-JuAUnKZx2Ho"
      },
      "source": [
        "y_train_3"
      ],
      "execution_count": null,
      "outputs": []
    },
    {
      "cell_type": "code",
      "metadata": {
        "id": "lKNxSyBEx2Hp"
      },
      "source": [
        "## dC/dW\n",
        "sum((2/3) * ((W * X_train_3 + b) - y_train_3) * X_train_3)"
      ],
      "execution_count": null,
      "outputs": []
    },
    {
      "cell_type": "code",
      "metadata": {
        "id": "TE5TgnGbx2Hp"
      },
      "source": [
        "## dC/db\n",
        "sum((2/3) * ((W * X_train_3 + b) - y_train_3))"
      ],
      "execution_count": null,
      "outputs": []
    },
    {
      "cell_type": "markdown",
      "metadata": {
        "id": "ft9BDJAZx2Hq"
      },
      "source": [
        "#### torch.optim 라이브러리 활용"
      ]
    },
    {
      "cell_type": "code",
      "metadata": {
        "id": "sTDfoMwMx2Hq"
      },
      "source": [
        "import torch.optim as optim"
      ],
      "execution_count": null,
      "outputs": []
    },
    {
      "cell_type": "markdown",
      "metadata": {
        "id": "uNF4FPklx2Hq"
      },
      "source": [
        "Optimizer 설정 - Stochastic gradient descent 를 활용하여 W와 b를 최적화.  \n",
        "learning rate=0.01"
      ]
    },
    {
      "cell_type": "code",
      "metadata": {
        "id": "wQ7tK-Mnx2Hr"
      },
      "source": [
        "optimizer = optim.SGD([W, b], lr=0.01)"
      ],
      "execution_count": null,
      "outputs": []
    },
    {
      "cell_type": "markdown",
      "metadata": {
        "id": "OxCO75gsx2Hr"
      },
      "source": [
        "최적화 과정 - 3가지가 항상 붙어다님. "
      ]
    },
    {
      "cell_type": "code",
      "metadata": {
        "id": "zm3MyYZ-x2Hr"
      },
      "source": [
        "hypothesis = X_train_3 * W + b\n",
        "cost = torch.mean((hypothesis - y_train_3) ** 2)"
      ],
      "execution_count": null,
      "outputs": []
    },
    {
      "cell_type": "code",
      "metadata": {
        "id": "l5-5Nin2x2Hr"
      },
      "source": [
        "optimizer.zero_grad() # 모든 gradient를 0으로 초기화\n",
        "cost.backward(retain_graph=True) # gradient 계산하여 (parameters).grad를 저장\n",
        "optimizer.step() # step으로 parameter를 개선"
      ],
      "execution_count": null,
      "outputs": []
    },
    {
      "cell_type": "markdown",
      "metadata": {
        "id": "c-nez3RXx2Hs"
      },
      "source": [
        "gradient 확인"
      ]
    },
    {
      "cell_type": "code",
      "metadata": {
        "id": "-8G5cbb3x2Hs"
      },
      "source": [
        "W.grad, b.grad"
      ],
      "execution_count": null,
      "outputs": []
    },
    {
      "cell_type": "code",
      "metadata": {
        "id": "5K3sUpTXx2Hs"
      },
      "source": [
        "print(W, b)"
      ],
      "execution_count": null,
      "outputs": []
    },
    {
      "cell_type": "markdown",
      "metadata": {
        "id": "e751Ab4mx2Hs"
      },
      "source": [
        "#### 1 step이후 확인"
      ]
    },
    {
      "cell_type": "code",
      "metadata": {
        "id": "hsQOGyNlx2Ht"
      },
      "source": [
        "hypothesis = X_train_3 * W + b\n",
        "hypothesis"
      ],
      "execution_count": null,
      "outputs": []
    },
    {
      "cell_type": "code",
      "metadata": {
        "id": "CExaiuxyx2Ht"
      },
      "source": [
        "plt.scatter(X_train_3, y_train_3)\n",
        "plt.plot(X_train_3, hypothesis.detach().numpy())"
      ],
      "execution_count": null,
      "outputs": []
    },
    {
      "cell_type": "markdown",
      "metadata": {
        "id": "qbeAKZrux2Ht"
      },
      "source": [
        "### Training with Full code"
      ]
    },
    {
      "cell_type": "code",
      "metadata": {
        "id": "fWRTnT5dx2Hu"
      },
      "source": [
        "# Data setup\n",
        "X_train, X_test, y_train, y_test = train_test_split(X, y, test_size=0.2)\n",
        "\n",
        "# Model initialize\n",
        "W = torch.zeros(1, requires_grad=True)\n",
        "b = torch.zeros(1, requires_grad=True)\n",
        "\n",
        "# Set optimizer\n",
        "optimizer = optim.SGD([W, b], lr=0.01)\n",
        "\n",
        "nb_epochs = 1000\n",
        "for epoch in range(nb_epochs + 1):\n",
        "    # Calculate H(X)\n",
        "    hypothesis = X_train * W + b\n",
        "#     hypothesis = X_train_3 * W + b\n",
        "    \n",
        "    # Calculate cost\n",
        "    cost = torch.mean((hypothesis - y_train) ** 2)\n",
        "#     cost = torch.mean((hypothesis - y_train_3) ** 2)\n",
        "    \n",
        "    # Parameter gradient descent\n",
        "    optimizer.zero_grad()\n",
        "    cost.backward() \n",
        "    optimizer.step() \n",
        "    \n",
        "    if epoch % 20 == 0:\n",
        "        print('Epoch {:4d}/{} W: {:.3f}, b: {:.3f} Cost: {:.6f}'.format(\n",
        "            epoch, nb_epochs, W.item(), b.item(), cost.item()\n",
        "        ))"
      ],
      "execution_count": null,
      "outputs": []
    },
    {
      "cell_type": "code",
      "metadata": {
        "id": "vs6ilr6ox2Hv"
      },
      "source": [
        "hx = (X_train * W + b).detach().numpy()"
      ],
      "execution_count": null,
      "outputs": []
    },
    {
      "cell_type": "code",
      "metadata": {
        "id": "lajNMKw6x2Hv"
      },
      "source": [
        "plt.figure(figsize=[6, 6])\n",
        "plt.scatter(X_train, y_train, s=10)\n",
        "plt.scatter(X_train, hx, s=20, c='r')"
      ],
      "execution_count": null,
      "outputs": []
    },
    {
      "cell_type": "markdown",
      "metadata": {
        "id": "fmT2PwVyx2Hv"
      },
      "source": [
        "## High level implementation with nn.Module"
      ]
    },
    {
      "cell_type": "markdown",
      "metadata": {
        "id": "jk-t_msNx2Hw"
      },
      "source": [
        "`nn.module`을 활용하여 모델 구축  \n",
        "`nn.module`: 신경망 모듈. 각종 레이어(linear, conv, ...)를 지원하며 output을 return하는 forward(input) 메서드를 포함함"
      ]
    },
    {
      "cell_type": "code",
      "metadata": {
        "id": "gYlhcP2sx2Hw"
      },
      "source": [
        "from torch import nn as nn\n",
        "from torch.nn import functional as F"
      ],
      "execution_count": null,
      "outputs": []
    },
    {
      "cell_type": "markdown",
      "metadata": {
        "id": "zU9kvoRIx2Hw"
      },
      "source": [
        "nn.Linear 레이어의 활용"
      ]
    },
    {
      "cell_type": "code",
      "metadata": {
        "id": "Fed-QOgWx2Hw"
      },
      "source": [
        "class my_LinearRegression(nn.Module):\n",
        "    def __init__(self):\n",
        "        super().__init__()\n",
        "        self.linear = nn.Linear(1, 1)\n",
        "\n",
        "    def forward(self, x):\n",
        "        return self.linear(x)"
      ],
      "execution_count": null,
      "outputs": []
    },
    {
      "cell_type": "code",
      "metadata": {
        "id": "Qbh9WjBnx2Hw"
      },
      "source": [
        "model = my_LinearRegression()"
      ],
      "execution_count": null,
      "outputs": []
    },
    {
      "cell_type": "code",
      "metadata": {
        "id": "9GjYjIWEx2Hx"
      },
      "source": [
        "model"
      ],
      "execution_count": null,
      "outputs": []
    },
    {
      "cell_type": "code",
      "metadata": {
        "id": "aW1FVrGVx2Hx"
      },
      "source": [
        "hypothesis = model(X_train[:3])"
      ],
      "execution_count": null,
      "outputs": []
    },
    {
      "cell_type": "code",
      "metadata": {
        "id": "bo5WYfpsx2Hx"
      },
      "source": [
        "hypothesis"
      ],
      "execution_count": null,
      "outputs": []
    },
    {
      "cell_type": "code",
      "metadata": {
        "id": "oA_YCZZox2Hy"
      },
      "source": [
        "hypothesis = model(X_train)\n",
        "cost = F.mse_loss(hypothesis, y_train)"
      ],
      "execution_count": null,
      "outputs": []
    },
    {
      "cell_type": "code",
      "metadata": {
        "id": "jQ4BKW8zx2Hy"
      },
      "source": [
        "cost"
      ],
      "execution_count": null,
      "outputs": []
    },
    {
      "cell_type": "code",
      "metadata": {
        "id": "Ojhk87imx2Hy"
      },
      "source": [
        "optimizer = optim.SGD(model.parameters(), lr=0.01)"
      ],
      "execution_count": null,
      "outputs": []
    },
    {
      "cell_type": "code",
      "metadata": {
        "id": "3Y9170F5x2Hy"
      },
      "source": [
        "optimizer.zero_grad()\n",
        "cost.backward()\n",
        "optimizer.step()"
      ],
      "execution_count": null,
      "outputs": []
    },
    {
      "cell_type": "markdown",
      "metadata": {
        "id": "x9235LU7x2Hz"
      },
      "source": [
        "### Training with Full code"
      ]
    },
    {
      "cell_type": "code",
      "metadata": {
        "id": "VmmNWp4Hx2Hz"
      },
      "source": [
        "# Data setup\n",
        "X_train, X_test, y_train, y_test = train_test_split(X, y, test_size=0.2)\n",
        "\n",
        "# Model initialize\n",
        "model = my_LinearRegression()\n",
        "\n",
        "# Set optimizer\n",
        "optimizer = optim.SGD(model.parameters(), lr=0.01)\n",
        "\n",
        "nb_epochs = 1000\n",
        "for epoch in range(nb_epochs + 1):\n",
        "    # Calculate H(X)\n",
        "    hypothesis = model(X_train)\n",
        "    \n",
        "    # Calculate cost\n",
        "    cost = F.mse_loss(hypothesis, y_train)\n",
        "    \n",
        "    # Parameter gradient descent\n",
        "    optimizer.zero_grad()\n",
        "    cost.backward() \n",
        "    optimizer.step() \n",
        "    \n",
        "    if epoch % 20 == 0:\n",
        "        params = list(model.parameters())\n",
        "        W = params[0].item()\n",
        "        b = params[1].item()\n",
        "        print('Epoch {:4d}/{} W: {:.3f}, b: {:.3f} Cost: {:.6f}'.format(\n",
        "            epoch, nb_epochs, W, b, cost.item()\n",
        "        ))"
      ],
      "execution_count": null,
      "outputs": []
    },
    {
      "cell_type": "markdown",
      "metadata": {
        "id": "cS46h2fOx2Hz"
      },
      "source": [
        "### 결과 확인"
      ]
    },
    {
      "cell_type": "code",
      "metadata": {
        "id": "ac7Yx8kxx2Hz"
      },
      "source": [
        "hx = (model(X_train)).detach().numpy()"
      ],
      "execution_count": null,
      "outputs": []
    },
    {
      "cell_type": "code",
      "metadata": {
        "id": "Iot7FpNQx2Hz"
      },
      "source": [
        "plt.figure(figsize=[6, 6])\n",
        "plt.scatter(X_train, y_train, s=10)\n",
        "plt.scatter(X_train, hx, s=20, c='r')"
      ],
      "execution_count": null,
      "outputs": []
    },
    {
      "cell_type": "markdown",
      "metadata": {
        "id": "RkX4t0jex2H0"
      },
      "source": [
        "## Multivariate Linear Regression"
      ]
    },
    {
      "cell_type": "code",
      "metadata": {
        "id": "Z_ROCQL9x2H0"
      },
      "source": [
        "m = 100\n",
        "x1 = torch.rand(m, 1)\n",
        "x2 = 2 * torch.rand(m, 1)\n",
        "x3 = 3 * torch.rand(m, 1)\n",
        "X = torch.cat((x1, x2, x3), axis=1)\n",
        "y = 4 + 3 * x1 + 2 * x2 + 5 * x3 + torch.randn(m, 1)"
      ],
      "execution_count": null,
      "outputs": []
    },
    {
      "cell_type": "code",
      "metadata": {
        "id": "f2prrlN8x2H0"
      },
      "source": [
        "X.shape, y.shape"
      ],
      "execution_count": null,
      "outputs": []
    },
    {
      "cell_type": "code",
      "metadata": {
        "id": "fLzUN2ZDx2H0"
      },
      "source": [
        "class MultivariateLinearRegressionModel(nn.Module):\n",
        "    def __init__(self):\n",
        "        super().__init__()\n",
        "        self.linear = nn.Linear(3, 1)\n",
        "\n",
        "    def forward(self, x):\n",
        "        return self.linear(x)"
      ],
      "execution_count": null,
      "outputs": []
    },
    {
      "cell_type": "code",
      "metadata": {
        "id": "JSuafx9cx2H0"
      },
      "source": [
        "X_train, X_test, y_train, y_test = train_test_split(X, y, test_size=0.2)\n",
        "\n",
        "model = MultivariateLinearRegressionModel()\n",
        "\n",
        "# Set optimizer\n",
        "optimizer = optim.SGD(model.parameters(), lr=0.01)\n",
        "\n",
        "nb_epochs = 2000\n",
        "for epoch in range(nb_epochs + 1):\n",
        "    # Calculate H(X)\n",
        "    hypothesis = model(X_train)\n",
        "    \n",
        "    # Calculate cost\n",
        "    cost = F.mse_loss(hypothesis, y_train)\n",
        "    \n",
        "    # Parameter gradient descent\n",
        "    optimizer.zero_grad()\n",
        "    cost.backward() \n",
        "    optimizer.step() \n",
        "    \n",
        "    if epoch % 20 == 0:\n",
        "        params = list(model.parameters())\n",
        "       \n",
        "        print('Epoch {:4d}/{} {} Cost: {:.6f}'.format(\n",
        "            epoch, nb_epochs, list(model.parameters()), cost.item()\n",
        "        ))"
      ],
      "execution_count": null,
      "outputs": []
    },
    {
      "cell_type": "markdown",
      "metadata": {
        "id": "SuC5BYOex2H1"
      },
      "source": [
        "### 결과 확인"
      ]
    },
    {
      "cell_type": "code",
      "metadata": {
        "id": "CGepZBz4x2H1"
      },
      "source": [
        "from sklearn.decomposition import PCA"
      ],
      "execution_count": null,
      "outputs": []
    },
    {
      "cell_type": "code",
      "metadata": {
        "id": "iZ2HUwHqx2H1"
      },
      "source": [
        "pca = PCA(n_components=1)\n",
        "X_pca = pca.fit_transform(X_train)"
      ],
      "execution_count": null,
      "outputs": []
    },
    {
      "cell_type": "code",
      "metadata": {
        "id": "h9IHwoqqx2H1"
      },
      "source": [
        "hx = model(X_train).detach().numpy()"
      ],
      "execution_count": null,
      "outputs": []
    },
    {
      "cell_type": "code",
      "metadata": {
        "id": "DjerrX6zx2H2"
      },
      "source": [
        "plt.scatter(X_pca, y_train, s=20)\n",
        "plt.scatter(X_pca, hx, s=20)"
      ],
      "execution_count": null,
      "outputs": []
    },
    {
      "cell_type": "code",
      "metadata": {
        "id": "xsc-TnNFx2H2"
      },
      "source": [
        ""
      ],
      "execution_count": null,
      "outputs": []
    }
  ]
}