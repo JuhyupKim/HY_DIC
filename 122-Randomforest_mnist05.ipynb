{
  "nbformat": 4,
  "nbformat_minor": 0,
  "metadata": {
    "colab": {
      "name": "122-Randomforest_mnist05.ipynb",
      "provenance": [],
      "collapsed_sections": [],
      "include_colab_link": true
    },
    "kernelspec": {
      "display_name": "Python 3",
      "language": "python",
      "name": "python3"
    },
    "language_info": {
      "codemirror_mode": {
        "name": "ipython",
        "version": 3
      },
      "file_extension": ".py",
      "mimetype": "text/x-python",
      "name": "python",
      "nbconvert_exporter": "python",
      "pygments_lexer": "ipython3",
      "version": "3.6.10"
    }
  },
  "cells": [
    {
      "cell_type": "markdown",
      "metadata": {
        "id": "view-in-github",
        "colab_type": "text"
      },
      "source": [
        "<a href=\"https://colab.research.google.com/github/JuhyupKim/HY_DIC/blob/main/122-Randomforest_mnist05.ipynb\" target=\"_parent\"><img src=\"https://colab.research.google.com/assets/colab-badge.svg\" alt=\"Open In Colab\"/></a>"
      ]
    },
    {
      "cell_type": "markdown",
      "metadata": {
        "id": "eQ2NfOwp0AfI"
      },
      "source": [
        "# Classification"
      ]
    },
    {
      "cell_type": "markdown",
      "metadata": {
        "id": "F8UUrTx50AfL"
      },
      "source": [
        "## Data import"
      ]
    },
    {
      "cell_type": "code",
      "metadata": {
        "id": "SudWuCc00AfM"
      },
      "source": [
        "import pandas as pd\n",
        "import os\n",
        "import numpy as np"
      ],
      "execution_count": null,
      "outputs": []
    },
    {
      "cell_type": "code",
      "metadata": {
        "id": "MwZLGrXT0AfM"
      },
      "source": [
        "traindata_url = 'https://bitbucket.org/hyuk125/lg_dic/raw/889649d1bc273bf53967cb621a370205715b803b/dataset_day1/mnist_train.csv'\n",
        "testdata_url = 'https://bitbucket.org/hyuk125/lg_dic/raw/889649d1bc273bf53967cb621a370205715b803b/dataset_day1/mnist_test.csv'\n",
        "train_data = pd.read_csv(traindata_url)\n",
        "test_data = pd.read_csv(testdata_url)"
      ],
      "execution_count": null,
      "outputs": []
    },
    {
      "cell_type": "code",
      "metadata": {
        "id": "bpV6BfaT0AfN"
      },
      "source": [
        "from sklearn.preprocessing import LabelEncoder\n",
        "\n",
        "le = LabelEncoder()\n",
        "\n",
        "le.fit(train_data.label == 5)\n",
        "\n",
        "train_data.label = le.transform(train_data.label == 5)\n",
        "test_data.label = le.transform(test_data.label == 5)"
      ],
      "execution_count": null,
      "outputs": []
    },
    {
      "cell_type": "code",
      "metadata": {
        "id": "DVk-OtGJ0AfN"
      },
      "source": [
        "X_train = train_data.values[:, 1:] \n",
        "y_train = train_data.values[:, 0]\n",
        "X_test = test_data.values[:, 1:]\n",
        "y_test = test_data.values[:, 0]"
      ],
      "execution_count": null,
      "outputs": []
    },
    {
      "cell_type": "code",
      "metadata": {
        "id": "2EHQDzuE0AfO"
      },
      "source": [
        "X = np.r_[X_train, X_test]\n",
        "y = np.r_[y_train, y_test]"
      ],
      "execution_count": null,
      "outputs": []
    },
    {
      "cell_type": "markdown",
      "metadata": {
        "id": "cB0KBYf70AfO"
      },
      "source": [
        "## Classification 모델"
      ]
    },
    {
      "cell_type": "markdown",
      "metadata": {
        "id": "Ix8P4MPI0AfP"
      },
      "source": [
        "### Data 처리\n",
        "#### Training / test 분할"
      ]
    },
    {
      "cell_type": "code",
      "metadata": {
        "id": "q375FVWO0AfP"
      },
      "source": [
        "from sklearn.model_selection import train_test_split\n",
        "X_train, X_test, y_train, y_test = train_test_split(X, y)"
      ],
      "execution_count": null,
      "outputs": []
    },
    {
      "cell_type": "markdown",
      "metadata": {
        "id": "tSRl-U0K0AfP"
      },
      "source": [
        "### Randomforest classification 모델 학습"
      ]
    },
    {
      "cell_type": "code",
      "metadata": {
        "id": "HqCV4qhD0AfQ"
      },
      "source": [
        "from sklearn.ensemble import RandomForestClassifier"
      ],
      "execution_count": null,
      "outputs": []
    },
    {
      "cell_type": "code",
      "metadata": {
        "colab": {
          "base_uri": "https://localhost:8080/"
        },
        "id": "a_eDUPbi0AfQ",
        "outputId": "1765b2f6-fa60-4556-9fa5-222cbe3398e2"
      },
      "source": [
        "model = RandomForestClassifier(n_estimators=50, max_leaf_nodes=16, n_jobs=-1) \n",
        "model.fit(X_train, y_train)"
      ],
      "execution_count": null,
      "outputs": [
        {
          "output_type": "execute_result",
          "data": {
            "text/plain": [
              "RandomForestClassifier(bootstrap=True, ccp_alpha=0.0, class_weight=None,\n",
              "                       criterion='gini', max_depth=None, max_features='auto',\n",
              "                       max_leaf_nodes=16, max_samples=None,\n",
              "                       min_impurity_decrease=0.0, min_impurity_split=None,\n",
              "                       min_samples_leaf=1, min_samples_split=2,\n",
              "                       min_weight_fraction_leaf=0.0, n_estimators=50, n_jobs=-1,\n",
              "                       oob_score=False, random_state=None, verbose=0,\n",
              "                       warm_start=False)"
            ]
          },
          "metadata": {},
          "execution_count": 8
        }
      ]
    },
    {
      "cell_type": "markdown",
      "metadata": {
        "id": "Xt2nL7hP0AfR"
      },
      "source": [
        "## Model Test"
      ]
    },
    {
      "cell_type": "markdown",
      "metadata": {
        "id": "3tT6t9mD0AfR"
      },
      "source": [
        "## 정확도 판단"
      ]
    },
    {
      "cell_type": "markdown",
      "metadata": {
        "id": "6NpuPqzV0AfS"
      },
      "source": [
        "### Confution matrix"
      ]
    },
    {
      "cell_type": "code",
      "metadata": {
        "id": "X5-oYaOb0AfS"
      },
      "source": [
        "from sklearn.metrics import confusion_matrix"
      ],
      "execution_count": null,
      "outputs": []
    },
    {
      "cell_type": "code",
      "metadata": {
        "id": "7_LBCmF30AfT"
      },
      "source": [
        "predict = model.predict(X_test)"
      ],
      "execution_count": null,
      "outputs": []
    },
    {
      "cell_type": "code",
      "metadata": {
        "colab": {
          "base_uri": "https://localhost:8080/"
        },
        "id": "_POB3XfT0AfT",
        "outputId": "12abbaa4-73b5-4204-98fd-d2cb0fe4811b"
      },
      "source": [
        "matrix = confusion_matrix(y_test, predict)\n",
        "matrix"
      ],
      "execution_count": null,
      "outputs": [
        {
          "output_type": "execute_result",
          "data": {
            "text/plain": [
              "array([[15855,     7],\n",
              "       [  942,   696]])"
            ]
          },
          "metadata": {},
          "execution_count": 11
        }
      ]
    },
    {
      "cell_type": "markdown",
      "metadata": {
        "id": "osGsSfFC0AfU"
      },
      "source": [
        "### Precision, recall"
      ]
    },
    {
      "cell_type": "code",
      "metadata": {
        "id": "3QMQh5YM0AfV"
      },
      "source": [
        "from sklearn.metrics import precision_score, recall_score"
      ],
      "execution_count": null,
      "outputs": []
    },
    {
      "cell_type": "code",
      "metadata": {
        "colab": {
          "base_uri": "https://localhost:8080/"
        },
        "id": "icnRdKas0AfV",
        "outputId": "df74cd8e-3072-44bf-9bd0-b42f7e400f1c"
      },
      "source": [
        "print(precision_score(y_test, predict, average=None))\n",
        "print('average: ', precision_score(y_test, predict, average='weighted'))"
      ],
      "execution_count": null,
      "outputs": [
        {
          "output_type": "stream",
          "name": "stdout",
          "text": [
            "[0.94391856 0.99004267]\n",
            "average:  0.9482357742708069\n"
          ]
        }
      ]
    },
    {
      "cell_type": "code",
      "metadata": {
        "colab": {
          "base_uri": "https://localhost:8080/"
        },
        "id": "aHmuLxxc0AfW",
        "outputId": "eb30b704-1d09-40be-9d3a-72fd4a2e8fcb"
      },
      "source": [
        "print(recall_score(y_test, predict, average=None))\n",
        "print('average: ', recall_score(y_test, predict, average='macro'))"
      ],
      "execution_count": null,
      "outputs": [
        {
          "output_type": "stream",
          "name": "stdout",
          "text": [
            "[0.99955869 0.42490842]\n",
            "average:  0.7122335593209379\n"
          ]
        }
      ]
    }
  ]
}